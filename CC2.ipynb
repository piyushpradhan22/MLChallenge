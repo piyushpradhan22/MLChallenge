{
 "cells": [
  {
   "cell_type": "code",
   "execution_count": 88,
   "metadata": {},
   "outputs": [],
   "source": [
    "import numpy as np\n",
    "import pandas as pd\n",
    "from sklearn.model_selection import train_test_split\n",
    "from sklearn.tree import DecisionTreeClassifier\n",
    "from matplotlib import pyplot as plt"
   ]
  },
  {
   "cell_type": "code",
   "execution_count": 2,
   "metadata": {},
   "outputs": [],
   "source": [
    "df = pd.read_csv('train_LZdllcl.csv')\n",
    "df['education'].fillna('Bachelor\\'s', inplace=True)\n",
    "df['previous_year_rating'].fillna('0', inplace=True)\n",
    "\n",
    "dfTest = pd.read_csv('test_2umaH9m.csv')\n",
    "dfTest['education'].fillna('Bachelor\\'s', inplace=True)\n",
    "dfTest['previous_year_rating'].fillna('0', inplace=True)"
   ]
  },
  {
   "cell_type": "code",
   "execution_count": 3,
   "metadata": {},
   "outputs": [
    {
     "name": "stdout",
     "output_type": "stream",
     "text": [
      "Initial shape (54808, 13)\n",
      "(54808, 21)\n"
     ]
    }
   ],
   "source": [
    "dfY = df['is_promoted']\n",
    "df.drop(\"is_promoted\", axis = 1, inplace=True)\n",
    "\n",
    "print('Initial shape', df.shape)\n",
    "df_with_dummies=pd.get_dummies(df[\"department\"])\n",
    "df = pd.concat([df, df_with_dummies], axis=1)\n",
    "df.drop(\"department\", axis = 1, inplace=True)\n",
    "print(df.shape)"
   ]
  },
  {
   "cell_type": "code",
   "execution_count": 4,
   "metadata": {},
   "outputs": [
    {
     "name": "stdout",
     "output_type": "stream",
     "text": [
      "Initial shape (23490, 13)\n",
      "(23490, 21)\n"
     ]
    }
   ],
   "source": [
    "print('Initial shape', dfTest.shape)\n",
    "dfTest_with_dummies=pd.get_dummies(dfTest[\"department\"])\n",
    "dfTest = pd.concat([dfTest, dfTest_with_dummies], axis=1)\n",
    "dfTest.drop(\"department\", axis = 1, inplace=True)\n",
    "print(dfTest.shape)"
   ]
  },
  {
   "cell_type": "code",
   "execution_count": 5,
   "metadata": {},
   "outputs": [
    {
     "name": "stdout",
     "output_type": "stream",
     "text": [
      "(54808, 54)\n",
      "(23490, 54)\n"
     ]
    }
   ],
   "source": [
    "df_with_dummies=pd.get_dummies(df[\"region\"])\n",
    "df = pd.concat([df, df_with_dummies], axis=1)\n",
    "df.drop(\"region\", axis = 1, inplace=True)\n",
    "print(df.shape)\n",
    "\n",
    "dfTest_with_dummies=pd.get_dummies(dfTest[\"region\"])\n",
    "dfTest = pd.concat([dfTest, dfTest_with_dummies], axis=1)\n",
    "dfTest.drop(\"region\", axis = 1, inplace=True)\n",
    "print(dfTest.shape)"
   ]
  },
  {
   "cell_type": "code",
   "execution_count": 6,
   "metadata": {},
   "outputs": [
    {
     "name": "stdout",
     "output_type": "stream",
     "text": [
      "(54808, 56)\n",
      "(23490, 56)\n"
     ]
    }
   ],
   "source": [
    "df_with_dummies=pd.get_dummies(df[\"education\"])\n",
    "df = pd.concat([df, df_with_dummies], axis=1)\n",
    "df.drop(\"education\", axis = 1, inplace=True)\n",
    "print(df.shape)\n",
    "\n",
    "dfTest_with_dummies=pd.get_dummies(dfTest[\"education\"])\n",
    "dfTest = pd.concat([dfTest, dfTest_with_dummies], axis=1)\n",
    "dfTest.drop(\"education\", axis = 1, inplace=True)\n",
    "print(dfTest.shape)"
   ]
  },
  {
   "cell_type": "code",
   "execution_count": 7,
   "metadata": {},
   "outputs": [
    {
     "name": "stdout",
     "output_type": "stream",
     "text": [
      "(54808, 57)\n",
      "(23490, 57)\n"
     ]
    }
   ],
   "source": [
    "df_with_dummies=pd.get_dummies(df[\"gender\"])\n",
    "df = pd.concat([df, df_with_dummies], axis=1)\n",
    "df.drop(\"gender\", axis = 1, inplace=True)\n",
    "print(df.shape)\n",
    "\n",
    "dfTest_with_dummies=pd.get_dummies(dfTest[\"gender\"])\n",
    "dfTest = pd.concat([dfTest, dfTest_with_dummies], axis=1)\n",
    "dfTest.drop(\"gender\", axis = 1, inplace=True)\n",
    "print(dfTest.shape)"
   ]
  },
  {
   "cell_type": "code",
   "execution_count": 8,
   "metadata": {},
   "outputs": [
    {
     "name": "stdout",
     "output_type": "stream",
     "text": [
      "(54808, 59)\n",
      "(23490, 59)\n"
     ]
    }
   ],
   "source": [
    "df_with_dummies=pd.get_dummies(df[\"recruitment_channel\"])\n",
    "df = pd.concat([df, df_with_dummies], axis=1)\n",
    "df.drop(\"recruitment_channel\", axis = 1, inplace=True)\n",
    "print(df.shape)\n",
    "\n",
    "dfTest_with_dummies=pd.get_dummies(dfTest[\"recruitment_channel\"])\n",
    "dfTest = pd.concat([dfTest, dfTest_with_dummies], axis=1)\n",
    "dfTest.drop(\"recruitment_channel\", axis = 1, inplace=True)\n",
    "print(dfTest.shape)"
   ]
  },
  {
   "cell_type": "code",
   "execution_count": 9,
   "metadata": {},
   "outputs": [
    {
     "name": "stdout",
     "output_type": "stream",
     "text": [
      "(54808, 68)\n",
      "(23490, 67)\n"
     ]
    }
   ],
   "source": [
    "df_with_dummies=pd.get_dummies(df[\"no_of_trainings\"])\n",
    "df = pd.concat([df, df_with_dummies], axis=1)\n",
    "df.drop(\"no_of_trainings\", axis = 1, inplace=True)\n",
    "print(df.shape)\n",
    "\n",
    "dfTest_with_dummies=pd.get_dummies(dfTest[\"no_of_trainings\"])\n",
    "dfTest = pd.concat([dfTest, dfTest_with_dummies], axis=1)\n",
    "dfTest.drop(\"no_of_trainings\", axis = 1, inplace=True)\n",
    "print(dfTest.shape)"
   ]
  },
  {
   "cell_type": "code",
   "execution_count": 10,
   "metadata": {},
   "outputs": [],
   "source": [
    "dfTest = pd.concat([dfTest, pd.DataFrame(np.zeros(23490),dtype = 'uint8')], axis=1)"
   ]
  },
  {
   "cell_type": "code",
   "execution_count": 11,
   "metadata": {},
   "outputs": [],
   "source": [
    "dfTest.rename(columns={0:10}, inplace=True)"
   ]
  },
  {
   "cell_type": "code",
   "execution_count": 12,
   "metadata": {},
   "outputs": [
    {
     "name": "stdout",
     "output_type": "stream",
     "text": [
      "(23490, 68)\n"
     ]
    }
   ],
   "source": [
    "print(dfTest.shape)"
   ]
  },
  {
   "cell_type": "code",
   "execution_count": 13,
   "metadata": {},
   "outputs": [
    {
     "name": "stdout",
     "output_type": "stream",
     "text": [
      "(54808, 108)\n",
      "(23490, 108)\n"
     ]
    }
   ],
   "source": [
    "df_with_dummies=pd.get_dummies(df[\"age\"])\n",
    "df = pd.concat([df, df_with_dummies], axis=1)\n",
    "df.drop(\"age\", axis = 1, inplace=True)\n",
    "print(df.shape)\n",
    "\n",
    "dfTest_with_dummies=pd.get_dummies(dfTest[\"age\"])\n",
    "dfTest = pd.concat([dfTest, dfTest_with_dummies], axis=1)\n",
    "dfTest.drop(\"age\", axis = 1, inplace=True)\n",
    "print(dfTest.shape)"
   ]
  },
  {
   "cell_type": "code",
   "execution_count": 14,
   "metadata": {},
   "outputs": [
    {
     "name": "stdout",
     "output_type": "stream",
     "text": [
      "(54808, 113)\n",
      "(23490, 113)\n"
     ]
    }
   ],
   "source": [
    "df_with_dummies=pd.get_dummies(df[\"previous_year_rating\"])\n",
    "df = pd.concat([df, df_with_dummies], axis=1)\n",
    "df.drop(\"previous_year_rating\", axis = 1, inplace=True)\n",
    "print(df.shape)\n",
    "\n",
    "dfTest_with_dummies=pd.get_dummies(dfTest[\"previous_year_rating\"])\n",
    "dfTest = pd.concat([dfTest, dfTest_with_dummies], axis=1)\n",
    "dfTest.drop(\"previous_year_rating\", axis = 1, inplace=True)\n",
    "print(dfTest.shape)"
   ]
  },
  {
   "cell_type": "code",
   "execution_count": 15,
   "metadata": {},
   "outputs": [
    {
     "name": "stdout",
     "output_type": "stream",
     "text": [
      "(54808, 147)\n",
      "(23490, 146)\n"
     ]
    }
   ],
   "source": [
    "df_with_dummies=pd.get_dummies(df[\"length_of_service\"])\n",
    "df = pd.concat([df, df_with_dummies], axis=1)\n",
    "df.drop(\"length_of_service\", axis = 1, inplace=True)\n",
    "print(df.shape)\n",
    "\n",
    "dfTest_with_dummies=pd.get_dummies(dfTest[\"length_of_service\"])\n",
    "dfTest = pd.concat([dfTest, dfTest_with_dummies], axis=1)\n",
    "dfTest.drop(\"length_of_service\", axis = 1, inplace=True)\n",
    "print(dfTest.shape)"
   ]
  },
  {
   "cell_type": "code",
   "execution_count": 16,
   "metadata": {},
   "outputs": [],
   "source": [
    "dfTest = pd.concat([dfTest, pd.DataFrame(np.zeros(23490),dtype = 'uint8')], axis=1)\n",
    "dfTest.rename(columns={0:37}, inplace=True)"
   ]
  },
  {
   "cell_type": "code",
   "execution_count": 17,
   "metadata": {},
   "outputs": [
    {
     "name": "stdout",
     "output_type": "stream",
     "text": [
      "(54808, 147)\n",
      "(23490, 147)\n"
     ]
    }
   ],
   "source": [
    "print(df.shape)\n",
    "print(dfTest.shape)"
   ]
  },
  {
   "cell_type": "code",
   "execution_count": 18,
   "metadata": {},
   "outputs": [
    {
     "name": "stdout",
     "output_type": "stream",
     "text": [
      "(54808, 148)\n",
      "(23490, 148)\n"
     ]
    }
   ],
   "source": [
    "df_with_dummies=pd.get_dummies(df[\"KPIs_met >80%\"])\n",
    "df = pd.concat([df, df_with_dummies], axis=1)\n",
    "df.drop(\"KPIs_met >80%\", axis = 1, inplace=True)\n",
    "print(df.shape)\n",
    "\n",
    "dfTest_with_dummies=pd.get_dummies(dfTest[\"KPIs_met >80%\"])\n",
    "dfTest = pd.concat([dfTest, dfTest_with_dummies], axis=1)\n",
    "dfTest.drop(\"KPIs_met >80%\", axis = 1, inplace=True)\n",
    "print(dfTest.shape)"
   ]
  },
  {
   "cell_type": "code",
   "execution_count": 19,
   "metadata": {},
   "outputs": [
    {
     "name": "stdout",
     "output_type": "stream",
     "text": [
      "(54808, 149)\n",
      "(23490, 149)\n"
     ]
    }
   ],
   "source": [
    "df_with_dummies=pd.get_dummies(df[\"awards_won?\"])\n",
    "df = pd.concat([df, df_with_dummies], axis=1)\n",
    "df.drop(\"awards_won?\", axis = 1, inplace=True)\n",
    "print(df.shape)\n",
    "\n",
    "dfTest_with_dummies=pd.get_dummies(dfTest[\"awards_won?\"])\n",
    "dfTest = pd.concat([dfTest, dfTest_with_dummies], axis=1)\n",
    "dfTest.drop(\"awards_won?\", axis = 1, inplace=True)\n",
    "print(dfTest.shape)"
   ]
  },
  {
   "cell_type": "code",
   "execution_count": 20,
   "metadata": {},
   "outputs": [
    {
     "name": "stdout",
     "output_type": "stream",
     "text": [
      "(54808, 209)\n",
      "(23490, 209)\n"
     ]
    }
   ],
   "source": [
    "df_with_dummies=pd.get_dummies(df[\"avg_training_score\"])\n",
    "df = pd.concat([df, df_with_dummies], axis=1)\n",
    "df.drop(\"avg_training_score\", axis = 1, inplace=True)\n",
    "print(df.shape)\n",
    "\n",
    "dfTest_with_dummies=pd.get_dummies(dfTest[\"avg_training_score\"])\n",
    "dfTest = pd.concat([dfTest, dfTest_with_dummies], axis=1)\n",
    "dfTest.drop(\"avg_training_score\", axis = 1, inplace=True)\n",
    "print(dfTest.shape)"
   ]
  },
  {
   "cell_type": "code",
   "execution_count": 23,
   "metadata": {},
   "outputs": [],
   "source": [
    "# Save to drive\n",
    "df.to_csv(\"final_train.csv\", index = False, sep=',', encoding='utf-8')\n",
    "dfTest.to_csv(\"final_test.csv\", index = False, sep=',', encoding='utf-8')\n",
    "dfY.to_csv(\"final_label.csv\", index = False, sep=',', encoding='utf-8')"
   ]
  },
  {
   "cell_type": "code",
   "execution_count": 89,
   "metadata": {},
   "outputs": [],
   "source": [
    "#Load from drive and train test split\n",
    "df=pd.read_csv('final_train.csv')\n",
    "#Train test split\n",
    "features=df.iloc[:,1:].values\n",
    "labels=dfY.values\n",
    "trainX, testX, trainY, testY = train_test_split(features, labels, test_size=0.33, random_state=42)"
   ]
  },
  {
   "cell_type": "code",
   "execution_count": 90,
   "metadata": {},
   "outputs": [
    {
     "name": "stdout",
     "output_type": "stream",
     "text": [
      "(36721, 208)\n",
      "(18087, 208)\n",
      "(36721,)\n",
      "(18087,)\n"
     ]
    }
   ],
   "source": [
    "print(trainX.shape)\n",
    "print(testX.shape)\n",
    "print(trainY.shape)\n",
    "print(testY.shape)"
   ]
  },
  {
   "cell_type": "code",
   "execution_count": 91,
   "metadata": {},
   "outputs": [
    {
     "data": {
      "text/plain": [
       "0.9324376624094654"
      ]
     },
     "execution_count": 91,
     "metadata": {},
     "output_type": "execute_result"
    }
   ],
   "source": [
    "dTree = DecisionTreeClassifier(min_samples_split = 120)\n",
    "dTree.fit(trainX,trainY)\n",
    "dTree.score(testX, testY)"
   ]
  },
  {
   "cell_type": "code",
   "execution_count": 67,
   "metadata": {},
   "outputs": [],
   "source": [
    "y = dTree.predict(dfTest.iloc[:,1:].values)"
   ]
  },
  {
   "cell_type": "code",
   "execution_count": 68,
   "metadata": {},
   "outputs": [
    {
     "data": {
      "text/html": [
       "<div>\n",
       "<style scoped>\n",
       "    .dataframe tbody tr th:only-of-type {\n",
       "        vertical-align: middle;\n",
       "    }\n",
       "\n",
       "    .dataframe tbody tr th {\n",
       "        vertical-align: top;\n",
       "    }\n",
       "\n",
       "    .dataframe thead th {\n",
       "        text-align: right;\n",
       "    }\n",
       "</style>\n",
       "<table border=\"1\" class=\"dataframe\">\n",
       "  <thead>\n",
       "    <tr style=\"text-align: right;\">\n",
       "      <th></th>\n",
       "      <th>employee_id</th>\n",
       "      <th>is_promoted</th>\n",
       "    </tr>\n",
       "  </thead>\n",
       "  <tbody>\n",
       "    <tr>\n",
       "      <th>0</th>\n",
       "      <td>8724</td>\n",
       "      <td>0</td>\n",
       "    </tr>\n",
       "    <tr>\n",
       "      <th>1</th>\n",
       "      <td>74430</td>\n",
       "      <td>0</td>\n",
       "    </tr>\n",
       "    <tr>\n",
       "      <th>2</th>\n",
       "      <td>72255</td>\n",
       "      <td>0</td>\n",
       "    </tr>\n",
       "    <tr>\n",
       "      <th>3</th>\n",
       "      <td>38562</td>\n",
       "      <td>0</td>\n",
       "    </tr>\n",
       "    <tr>\n",
       "      <th>4</th>\n",
       "      <td>64486</td>\n",
       "      <td>0</td>\n",
       "    </tr>\n",
       "    <tr>\n",
       "      <th>5</th>\n",
       "      <td>46232</td>\n",
       "      <td>0</td>\n",
       "    </tr>\n",
       "    <tr>\n",
       "      <th>6</th>\n",
       "      <td>54542</td>\n",
       "      <td>0</td>\n",
       "    </tr>\n",
       "    <tr>\n",
       "      <th>7</th>\n",
       "      <td>67269</td>\n",
       "      <td>0</td>\n",
       "    </tr>\n",
       "    <tr>\n",
       "      <th>8</th>\n",
       "      <td>66174</td>\n",
       "      <td>0</td>\n",
       "    </tr>\n",
       "    <tr>\n",
       "      <th>9</th>\n",
       "      <td>76303</td>\n",
       "      <td>0</td>\n",
       "    </tr>\n",
       "    <tr>\n",
       "      <th>10</th>\n",
       "      <td>60245</td>\n",
       "      <td>0</td>\n",
       "    </tr>\n",
       "    <tr>\n",
       "      <th>11</th>\n",
       "      <td>42639</td>\n",
       "      <td>0</td>\n",
       "    </tr>\n",
       "    <tr>\n",
       "      <th>12</th>\n",
       "      <td>30963</td>\n",
       "      <td>0</td>\n",
       "    </tr>\n",
       "    <tr>\n",
       "      <th>13</th>\n",
       "      <td>54055</td>\n",
       "      <td>0</td>\n",
       "    </tr>\n",
       "    <tr>\n",
       "      <th>14</th>\n",
       "      <td>42996</td>\n",
       "      <td>0</td>\n",
       "    </tr>\n",
       "    <tr>\n",
       "      <th>15</th>\n",
       "      <td>12737</td>\n",
       "      <td>0</td>\n",
       "    </tr>\n",
       "    <tr>\n",
       "      <th>16</th>\n",
       "      <td>27561</td>\n",
       "      <td>0</td>\n",
       "    </tr>\n",
       "    <tr>\n",
       "      <th>17</th>\n",
       "      <td>26622</td>\n",
       "      <td>0</td>\n",
       "    </tr>\n",
       "    <tr>\n",
       "      <th>18</th>\n",
       "      <td>31582</td>\n",
       "      <td>0</td>\n",
       "    </tr>\n",
       "    <tr>\n",
       "      <th>19</th>\n",
       "      <td>29793</td>\n",
       "      <td>0</td>\n",
       "    </tr>\n",
       "  </tbody>\n",
       "</table>\n",
       "</div>"
      ],
      "text/plain": [
       "    employee_id  is_promoted\n",
       "0          8724            0\n",
       "1         74430            0\n",
       "2         72255            0\n",
       "3         38562            0\n",
       "4         64486            0\n",
       "5         46232            0\n",
       "6         54542            0\n",
       "7         67269            0\n",
       "8         66174            0\n",
       "9         76303            0\n",
       "10        60245            0\n",
       "11        42639            0\n",
       "12        30963            0\n",
       "13        54055            0\n",
       "14        42996            0\n",
       "15        12737            0\n",
       "16        27561            0\n",
       "17        26622            0\n",
       "18        31582            0\n",
       "19        29793            0"
      ]
     },
     "execution_count": 68,
     "metadata": {},
     "output_type": "execute_result"
    }
   ],
   "source": [
    "dff=pd.DataFrame(y)\n",
    "dff.rename(index=str, columns={0: \"is_promoted\"},inplace=True)\n",
    "dff.insert(0,'employee_id',dfTest.iloc[:,0:1].values)\n",
    "dff.head(20)"
   ]
  },
  {
   "cell_type": "code",
   "execution_count": 69,
   "metadata": {},
   "outputs": [],
   "source": [
    "dff.to_csv(\"final_predicted.csv\", index = False, sep=',', encoding='utf-8')"
   ]
  },
  {
   "cell_type": "code",
   "execution_count": null,
   "metadata": {},
   "outputs": [],
   "source": []
  }
 ],
 "metadata": {
  "kernelspec": {
   "display_name": "Python 3",
   "language": "python",
   "name": "python3"
  },
  "language_info": {
   "codemirror_mode": {
    "name": "ipython",
    "version": 3
   },
   "file_extension": ".py",
   "mimetype": "text/x-python",
   "name": "python",
   "nbconvert_exporter": "python",
   "pygments_lexer": "ipython3",
   "version": "3.7.0"
  }
 },
 "nbformat": 4,
 "nbformat_minor": 2
}
