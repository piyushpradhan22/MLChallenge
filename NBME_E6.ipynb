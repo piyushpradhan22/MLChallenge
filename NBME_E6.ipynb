{
  "nbformat": 4,
  "nbformat_minor": 0,
  "metadata": {
    "colab": {
      "name": "NBME_E6.ipynb",
      "provenance": [],
      "authorship_tag": "ABX9TyMkEEwXUuDQ56s8s7/ZOrkK",
      "include_colab_link": true
    },
    "kernelspec": {
      "name": "python3",
      "display_name": "Python 3"
    },
    "language_info": {
      "name": "python"
    },
    "accelerator": "GPU",
    "widgets": {
      "application/vnd.jupyter.widget-state+json": {
        "67007bf09d1048deb20eaf833553ed4b": {
          "model_module": "@jupyter-widgets/controls",
          "model_name": "HBoxModel",
          "model_module_version": "1.5.0",
          "state": {
            "_dom_classes": [],
            "_model_module": "@jupyter-widgets/controls",
            "_model_module_version": "1.5.0",
            "_model_name": "HBoxModel",
            "_view_count": null,
            "_view_module": "@jupyter-widgets/controls",
            "_view_module_version": "1.5.0",
            "_view_name": "HBoxView",
            "box_style": "",
            "children": [
              "IPY_MODEL_76235b2bad6641e7bc2feb9070263f62",
              "IPY_MODEL_d0d2a5c7ce6047f6994b0a7a879afda8",
              "IPY_MODEL_05461614648b41db9b443db00152a092"
            ],
            "layout": "IPY_MODEL_f789805e08fb4e66bee15a314209144a"
          }
        },
        "76235b2bad6641e7bc2feb9070263f62": {
          "model_module": "@jupyter-widgets/controls",
          "model_name": "HTMLModel",
          "model_module_version": "1.5.0",
          "state": {
            "_dom_classes": [],
            "_model_module": "@jupyter-widgets/controls",
            "_model_module_version": "1.5.0",
            "_model_name": "HTMLModel",
            "_view_count": null,
            "_view_module": "@jupyter-widgets/controls",
            "_view_module_version": "1.5.0",
            "_view_name": "HTMLView",
            "description": "",
            "description_tooltip": null,
            "layout": "IPY_MODEL_32fdb594ce744256a1c86a812ed7943a",
            "placeholder": "​",
            "style": "IPY_MODEL_9b27e9ecf7fb424fb393e5317ef19253",
            "value": "Downloading: 100%"
          }
        },
        "d0d2a5c7ce6047f6994b0a7a879afda8": {
          "model_module": "@jupyter-widgets/controls",
          "model_name": "FloatProgressModel",
          "model_module_version": "1.5.0",
          "state": {
            "_dom_classes": [],
            "_model_module": "@jupyter-widgets/controls",
            "_model_module_version": "1.5.0",
            "_model_name": "FloatProgressModel",
            "_view_count": null,
            "_view_module": "@jupyter-widgets/controls",
            "_view_module_version": "1.5.0",
            "_view_name": "ProgressView",
            "bar_style": "success",
            "description": "",
            "description_tooltip": null,
            "layout": "IPY_MODEL_cc9497f24239479e83b3a2031ec37ab1",
            "max": 52,
            "min": 0,
            "orientation": "horizontal",
            "style": "IPY_MODEL_e592c97d70ec4621a44315a51bce018f",
            "value": 52
          }
        },
        "05461614648b41db9b443db00152a092": {
          "model_module": "@jupyter-widgets/controls",
          "model_name": "HTMLModel",
          "model_module_version": "1.5.0",
          "state": {
            "_dom_classes": [],
            "_model_module": "@jupyter-widgets/controls",
            "_model_module_version": "1.5.0",
            "_model_name": "HTMLModel",
            "_view_count": null,
            "_view_module": "@jupyter-widgets/controls",
            "_view_module_version": "1.5.0",
            "_view_name": "HTMLView",
            "description": "",
            "description_tooltip": null,
            "layout": "IPY_MODEL_40a35bbc2b954098ae60ce8af846c47f",
            "placeholder": "​",
            "style": "IPY_MODEL_7edf78bf522746e39dc02f9b4915ff79",
            "value": " 52.0/52.0 [00:00&lt;00:00, 357B/s]"
          }
        },
        "f789805e08fb4e66bee15a314209144a": {
          "model_module": "@jupyter-widgets/base",
          "model_name": "LayoutModel",
          "model_module_version": "1.2.0",
          "state": {
            "_model_module": "@jupyter-widgets/base",
            "_model_module_version": "1.2.0",
            "_model_name": "LayoutModel",
            "_view_count": null,
            "_view_module": "@jupyter-widgets/base",
            "_view_module_version": "1.2.0",
            "_view_name": "LayoutView",
            "align_content": null,
            "align_items": null,
            "align_self": null,
            "border": null,
            "bottom": null,
            "display": null,
            "flex": null,
            "flex_flow": null,
            "grid_area": null,
            "grid_auto_columns": null,
            "grid_auto_flow": null,
            "grid_auto_rows": null,
            "grid_column": null,
            "grid_gap": null,
            "grid_row": null,
            "grid_template_areas": null,
            "grid_template_columns": null,
            "grid_template_rows": null,
            "height": null,
            "justify_content": null,
            "justify_items": null,
            "left": null,
            "margin": null,
            "max_height": null,
            "max_width": null,
            "min_height": null,
            "min_width": null,
            "object_fit": null,
            "object_position": null,
            "order": null,
            "overflow": null,
            "overflow_x": null,
            "overflow_y": null,
            "padding": null,
            "right": null,
            "top": null,
            "visibility": null,
            "width": null
          }
        },
        "32fdb594ce744256a1c86a812ed7943a": {
          "model_module": "@jupyter-widgets/base",
          "model_name": "LayoutModel",
          "model_module_version": "1.2.0",
          "state": {
            "_model_module": "@jupyter-widgets/base",
            "_model_module_version": "1.2.0",
            "_model_name": "LayoutModel",
            "_view_count": null,
            "_view_module": "@jupyter-widgets/base",
            "_view_module_version": "1.2.0",
            "_view_name": "LayoutView",
            "align_content": null,
            "align_items": null,
            "align_self": null,
            "border": null,
            "bottom": null,
            "display": null,
            "flex": null,
            "flex_flow": null,
            "grid_area": null,
            "grid_auto_columns": null,
            "grid_auto_flow": null,
            "grid_auto_rows": null,
            "grid_column": null,
            "grid_gap": null,
            "grid_row": null,
            "grid_template_areas": null,
            "grid_template_columns": null,
            "grid_template_rows": null,
            "height": null,
            "justify_content": null,
            "justify_items": null,
            "left": null,
            "margin": null,
            "max_height": null,
            "max_width": null,
            "min_height": null,
            "min_width": null,
            "object_fit": null,
            "object_position": null,
            "order": null,
            "overflow": null,
            "overflow_x": null,
            "overflow_y": null,
            "padding": null,
            "right": null,
            "top": null,
            "visibility": null,
            "width": null
          }
        },
        "9b27e9ecf7fb424fb393e5317ef19253": {
          "model_module": "@jupyter-widgets/controls",
          "model_name": "DescriptionStyleModel",
          "model_module_version": "1.5.0",
          "state": {
            "_model_module": "@jupyter-widgets/controls",
            "_model_module_version": "1.5.0",
            "_model_name": "DescriptionStyleModel",
            "_view_count": null,
            "_view_module": "@jupyter-widgets/base",
            "_view_module_version": "1.2.0",
            "_view_name": "StyleView",
            "description_width": ""
          }
        },
        "cc9497f24239479e83b3a2031ec37ab1": {
          "model_module": "@jupyter-widgets/base",
          "model_name": "LayoutModel",
          "model_module_version": "1.2.0",
          "state": {
            "_model_module": "@jupyter-widgets/base",
            "_model_module_version": "1.2.0",
            "_model_name": "LayoutModel",
            "_view_count": null,
            "_view_module": "@jupyter-widgets/base",
            "_view_module_version": "1.2.0",
            "_view_name": "LayoutView",
            "align_content": null,
            "align_items": null,
            "align_self": null,
            "border": null,
            "bottom": null,
            "display": null,
            "flex": null,
            "flex_flow": null,
            "grid_area": null,
            "grid_auto_columns": null,
            "grid_auto_flow": null,
            "grid_auto_rows": null,
            "grid_column": null,
            "grid_gap": null,
            "grid_row": null,
            "grid_template_areas": null,
            "grid_template_columns": null,
            "grid_template_rows": null,
            "height": null,
            "justify_content": null,
            "justify_items": null,
            "left": null,
            "margin": null,
            "max_height": null,
            "max_width": null,
            "min_height": null,
            "min_width": null,
            "object_fit": null,
            "object_position": null,
            "order": null,
            "overflow": null,
            "overflow_x": null,
            "overflow_y": null,
            "padding": null,
            "right": null,
            "top": null,
            "visibility": null,
            "width": null
          }
        },
        "e592c97d70ec4621a44315a51bce018f": {
          "model_module": "@jupyter-widgets/controls",
          "model_name": "ProgressStyleModel",
          "model_module_version": "1.5.0",
          "state": {
            "_model_module": "@jupyter-widgets/controls",
            "_model_module_version": "1.5.0",
            "_model_name": "ProgressStyleModel",
            "_view_count": null,
            "_view_module": "@jupyter-widgets/base",
            "_view_module_version": "1.2.0",
            "_view_name": "StyleView",
            "bar_color": null,
            "description_width": ""
          }
        },
        "40a35bbc2b954098ae60ce8af846c47f": {
          "model_module": "@jupyter-widgets/base",
          "model_name": "LayoutModel",
          "model_module_version": "1.2.0",
          "state": {
            "_model_module": "@jupyter-widgets/base",
            "_model_module_version": "1.2.0",
            "_model_name": "LayoutModel",
            "_view_count": null,
            "_view_module": "@jupyter-widgets/base",
            "_view_module_version": "1.2.0",
            "_view_name": "LayoutView",
            "align_content": null,
            "align_items": null,
            "align_self": null,
            "border": null,
            "bottom": null,
            "display": null,
            "flex": null,
            "flex_flow": null,
            "grid_area": null,
            "grid_auto_columns": null,
            "grid_auto_flow": null,
            "grid_auto_rows": null,
            "grid_column": null,
            "grid_gap": null,
            "grid_row": null,
            "grid_template_areas": null,
            "grid_template_columns": null,
            "grid_template_rows": null,
            "height": null,
            "justify_content": null,
            "justify_items": null,
            "left": null,
            "margin": null,
            "max_height": null,
            "max_width": null,
            "min_height": null,
            "min_width": null,
            "object_fit": null,
            "object_position": null,
            "order": null,
            "overflow": null,
            "overflow_x": null,
            "overflow_y": null,
            "padding": null,
            "right": null,
            "top": null,
            "visibility": null,
            "width": null
          }
        },
        "7edf78bf522746e39dc02f9b4915ff79": {
          "model_module": "@jupyter-widgets/controls",
          "model_name": "DescriptionStyleModel",
          "model_module_version": "1.5.0",
          "state": {
            "_model_module": "@jupyter-widgets/controls",
            "_model_module_version": "1.5.0",
            "_model_name": "DescriptionStyleModel",
            "_view_count": null,
            "_view_module": "@jupyter-widgets/base",
            "_view_module_version": "1.2.0",
            "_view_name": "StyleView",
            "description_width": ""
          }
        },
        "453708ff238d47edb18f4627da6a47aa": {
          "model_module": "@jupyter-widgets/controls",
          "model_name": "HBoxModel",
          "model_module_version": "1.5.0",
          "state": {
            "_dom_classes": [],
            "_model_module": "@jupyter-widgets/controls",
            "_model_module_version": "1.5.0",
            "_model_name": "HBoxModel",
            "_view_count": null,
            "_view_module": "@jupyter-widgets/controls",
            "_view_module_version": "1.5.0",
            "_view_name": "HBoxView",
            "box_style": "",
            "children": [
              "IPY_MODEL_4c914b5abae14bd592dfbb687014781b",
              "IPY_MODEL_db57177b6c53443d98275bc6b28d3731",
              "IPY_MODEL_aefc2ea1fa8a4532b7d14939a48081b6"
            ],
            "layout": "IPY_MODEL_5f66c55c4735446ab3949200ddd68be5"
          }
        },
        "4c914b5abae14bd592dfbb687014781b": {
          "model_module": "@jupyter-widgets/controls",
          "model_name": "HTMLModel",
          "model_module_version": "1.5.0",
          "state": {
            "_dom_classes": [],
            "_model_module": "@jupyter-widgets/controls",
            "_model_module_version": "1.5.0",
            "_model_name": "HTMLModel",
            "_view_count": null,
            "_view_module": "@jupyter-widgets/controls",
            "_view_module_version": "1.5.0",
            "_view_name": "HTMLView",
            "description": "",
            "description_tooltip": null,
            "layout": "IPY_MODEL_2559ec2b5e644775b7d542edfb476f39",
            "placeholder": "​",
            "style": "IPY_MODEL_cb2b48e4bbba4a23b3cc72946c239d80",
            "value": "Downloading: 100%"
          }
        },
        "db57177b6c53443d98275bc6b28d3731": {
          "model_module": "@jupyter-widgets/controls",
          "model_name": "FloatProgressModel",
          "model_module_version": "1.5.0",
          "state": {
            "_dom_classes": [],
            "_model_module": "@jupyter-widgets/controls",
            "_model_module_version": "1.5.0",
            "_model_name": "FloatProgressModel",
            "_view_count": null,
            "_view_module": "@jupyter-widgets/controls",
            "_view_module_version": "1.5.0",
            "_view_name": "ProgressView",
            "bar_style": "success",
            "description": "",
            "description_tooltip": null,
            "layout": "IPY_MODEL_1ae3776b7d5747bcab9f3fbb03c921d3",
            "max": 474,
            "min": 0,
            "orientation": "horizontal",
            "style": "IPY_MODEL_d5018797d17b46408c6bfdedfd543b8a",
            "value": 474
          }
        },
        "aefc2ea1fa8a4532b7d14939a48081b6": {
          "model_module": "@jupyter-widgets/controls",
          "model_name": "HTMLModel",
          "model_module_version": "1.5.0",
          "state": {
            "_dom_classes": [],
            "_model_module": "@jupyter-widgets/controls",
            "_model_module_version": "1.5.0",
            "_model_name": "HTMLModel",
            "_view_count": null,
            "_view_module": "@jupyter-widgets/controls",
            "_view_module_version": "1.5.0",
            "_view_name": "HTMLView",
            "description": "",
            "description_tooltip": null,
            "layout": "IPY_MODEL_54db4fe06a2946e882f035783dee1988",
            "placeholder": "​",
            "style": "IPY_MODEL_8fd3d8129acd4bd6937651ab7150a120",
            "value": " 474/474 [00:00&lt;00:00, 2.74kB/s]"
          }
        },
        "5f66c55c4735446ab3949200ddd68be5": {
          "model_module": "@jupyter-widgets/base",
          "model_name": "LayoutModel",
          "model_module_version": "1.2.0",
          "state": {
            "_model_module": "@jupyter-widgets/base",
            "_model_module_version": "1.2.0",
            "_model_name": "LayoutModel",
            "_view_count": null,
            "_view_module": "@jupyter-widgets/base",
            "_view_module_version": "1.2.0",
            "_view_name": "LayoutView",
            "align_content": null,
            "align_items": null,
            "align_self": null,
            "border": null,
            "bottom": null,
            "display": null,
            "flex": null,
            "flex_flow": null,
            "grid_area": null,
            "grid_auto_columns": null,
            "grid_auto_flow": null,
            "grid_auto_rows": null,
            "grid_column": null,
            "grid_gap": null,
            "grid_row": null,
            "grid_template_areas": null,
            "grid_template_columns": null,
            "grid_template_rows": null,
            "height": null,
            "justify_content": null,
            "justify_items": null,
            "left": null,
            "margin": null,
            "max_height": null,
            "max_width": null,
            "min_height": null,
            "min_width": null,
            "object_fit": null,
            "object_position": null,
            "order": null,
            "overflow": null,
            "overflow_x": null,
            "overflow_y": null,
            "padding": null,
            "right": null,
            "top": null,
            "visibility": null,
            "width": null
          }
        },
        "2559ec2b5e644775b7d542edfb476f39": {
          "model_module": "@jupyter-widgets/base",
          "model_name": "LayoutModel",
          "model_module_version": "1.2.0",
          "state": {
            "_model_module": "@jupyter-widgets/base",
            "_model_module_version": "1.2.0",
            "_model_name": "LayoutModel",
            "_view_count": null,
            "_view_module": "@jupyter-widgets/base",
            "_view_module_version": "1.2.0",
            "_view_name": "LayoutView",
            "align_content": null,
            "align_items": null,
            "align_self": null,
            "border": null,
            "bottom": null,
            "display": null,
            "flex": null,
            "flex_flow": null,
            "grid_area": null,
            "grid_auto_columns": null,
            "grid_auto_flow": null,
            "grid_auto_rows": null,
            "grid_column": null,
            "grid_gap": null,
            "grid_row": null,
            "grid_template_areas": null,
            "grid_template_columns": null,
            "grid_template_rows": null,
            "height": null,
            "justify_content": null,
            "justify_items": null,
            "left": null,
            "margin": null,
            "max_height": null,
            "max_width": null,
            "min_height": null,
            "min_width": null,
            "object_fit": null,
            "object_position": null,
            "order": null,
            "overflow": null,
            "overflow_x": null,
            "overflow_y": null,
            "padding": null,
            "right": null,
            "top": null,
            "visibility": null,
            "width": null
          }
        },
        "cb2b48e4bbba4a23b3cc72946c239d80": {
          "model_module": "@jupyter-widgets/controls",
          "model_name": "DescriptionStyleModel",
          "model_module_version": "1.5.0",
          "state": {
            "_model_module": "@jupyter-widgets/controls",
            "_model_module_version": "1.5.0",
            "_model_name": "DescriptionStyleModel",
            "_view_count": null,
            "_view_module": "@jupyter-widgets/base",
            "_view_module_version": "1.2.0",
            "_view_name": "StyleView",
            "description_width": ""
          }
        },
        "1ae3776b7d5747bcab9f3fbb03c921d3": {
          "model_module": "@jupyter-widgets/base",
          "model_name": "LayoutModel",
          "model_module_version": "1.2.0",
          "state": {
            "_model_module": "@jupyter-widgets/base",
            "_model_module_version": "1.2.0",
            "_model_name": "LayoutModel",
            "_view_count": null,
            "_view_module": "@jupyter-widgets/base",
            "_view_module_version": "1.2.0",
            "_view_name": "LayoutView",
            "align_content": null,
            "align_items": null,
            "align_self": null,
            "border": null,
            "bottom": null,
            "display": null,
            "flex": null,
            "flex_flow": null,
            "grid_area": null,
            "grid_auto_columns": null,
            "grid_auto_flow": null,
            "grid_auto_rows": null,
            "grid_column": null,
            "grid_gap": null,
            "grid_row": null,
            "grid_template_areas": null,
            "grid_template_columns": null,
            "grid_template_rows": null,
            "height": null,
            "justify_content": null,
            "justify_items": null,
            "left": null,
            "margin": null,
            "max_height": null,
            "max_width": null,
            "min_height": null,
            "min_width": null,
            "object_fit": null,
            "object_position": null,
            "order": null,
            "overflow": null,
            "overflow_x": null,
            "overflow_y": null,
            "padding": null,
            "right": null,
            "top": null,
            "visibility": null,
            "width": null
          }
        },
        "d5018797d17b46408c6bfdedfd543b8a": {
          "model_module": "@jupyter-widgets/controls",
          "model_name": "ProgressStyleModel",
          "model_module_version": "1.5.0",
          "state": {
            "_model_module": "@jupyter-widgets/controls",
            "_model_module_version": "1.5.0",
            "_model_name": "ProgressStyleModel",
            "_view_count": null,
            "_view_module": "@jupyter-widgets/base",
            "_view_module_version": "1.2.0",
            "_view_name": "StyleView",
            "bar_color": null,
            "description_width": ""
          }
        },
        "54db4fe06a2946e882f035783dee1988": {
          "model_module": "@jupyter-widgets/base",
          "model_name": "LayoutModel",
          "model_module_version": "1.2.0",
          "state": {
            "_model_module": "@jupyter-widgets/base",
            "_model_module_version": "1.2.0",
            "_model_name": "LayoutModel",
            "_view_count": null,
            "_view_module": "@jupyter-widgets/base",
            "_view_module_version": "1.2.0",
            "_view_name": "LayoutView",
            "align_content": null,
            "align_items": null,
            "align_self": null,
            "border": null,
            "bottom": null,
            "display": null,
            "flex": null,
            "flex_flow": null,
            "grid_area": null,
            "grid_auto_columns": null,
            "grid_auto_flow": null,
            "grid_auto_rows": null,
            "grid_column": null,
            "grid_gap": null,
            "grid_row": null,
            "grid_template_areas": null,
            "grid_template_columns": null,
            "grid_template_rows": null,
            "height": null,
            "justify_content": null,
            "justify_items": null,
            "left": null,
            "margin": null,
            "max_height": null,
            "max_width": null,
            "min_height": null,
            "min_width": null,
            "object_fit": null,
            "object_position": null,
            "order": null,
            "overflow": null,
            "overflow_x": null,
            "overflow_y": null,
            "padding": null,
            "right": null,
            "top": null,
            "visibility": null,
            "width": null
          }
        },
        "8fd3d8129acd4bd6937651ab7150a120": {
          "model_module": "@jupyter-widgets/controls",
          "model_name": "DescriptionStyleModel",
          "model_module_version": "1.5.0",
          "state": {
            "_model_module": "@jupyter-widgets/controls",
            "_model_module_version": "1.5.0",
            "_model_name": "DescriptionStyleModel",
            "_view_count": null,
            "_view_module": "@jupyter-widgets/base",
            "_view_module_version": "1.2.0",
            "_view_name": "StyleView",
            "description_width": ""
          }
        },
        "1c764adf17be4bf595f3730830a4841d": {
          "model_module": "@jupyter-widgets/controls",
          "model_name": "HBoxModel",
          "model_module_version": "1.5.0",
          "state": {
            "_dom_classes": [],
            "_model_module": "@jupyter-widgets/controls",
            "_model_module_version": "1.5.0",
            "_model_name": "HBoxModel",
            "_view_count": null,
            "_view_module": "@jupyter-widgets/controls",
            "_view_module_version": "1.5.0",
            "_view_name": "HBoxView",
            "box_style": "",
            "children": [
              "IPY_MODEL_c6209b0aa3fb43cd8265e885e60c1e1f",
              "IPY_MODEL_920ac9a36d04459f971ee0fd582e7e87",
              "IPY_MODEL_46fc66de1bba4cc496de7e6db7d5f477"
            ],
            "layout": "IPY_MODEL_6a2538bf9223411eb174785bb0c5aaf6"
          }
        },
        "c6209b0aa3fb43cd8265e885e60c1e1f": {
          "model_module": "@jupyter-widgets/controls",
          "model_name": "HTMLModel",
          "model_module_version": "1.5.0",
          "state": {
            "_dom_classes": [],
            "_model_module": "@jupyter-widgets/controls",
            "_model_module_version": "1.5.0",
            "_model_name": "HTMLModel",
            "_view_count": null,
            "_view_module": "@jupyter-widgets/controls",
            "_view_module_version": "1.5.0",
            "_view_name": "HTMLView",
            "description": "",
            "description_tooltip": null,
            "layout": "IPY_MODEL_ad9b1f9583fa404aa6c32b9f8f02cecd",
            "placeholder": "​",
            "style": "IPY_MODEL_ec4256403fa2463787149f3903307d01",
            "value": "Downloading: 100%"
          }
        },
        "920ac9a36d04459f971ee0fd582e7e87": {
          "model_module": "@jupyter-widgets/controls",
          "model_name": "FloatProgressModel",
          "model_module_version": "1.5.0",
          "state": {
            "_dom_classes": [],
            "_model_module": "@jupyter-widgets/controls",
            "_model_module_version": "1.5.0",
            "_model_name": "FloatProgressModel",
            "_view_count": null,
            "_view_module": "@jupyter-widgets/controls",
            "_view_module_version": "1.5.0",
            "_view_name": "ProgressView",
            "bar_style": "success",
            "description": "",
            "description_tooltip": null,
            "layout": "IPY_MODEL_3d8e1679165c4c108a86a5990c0ecb90",
            "max": 898825,
            "min": 0,
            "orientation": "horizontal",
            "style": "IPY_MODEL_2b312cc76e0c498d9a854d5654e91e21",
            "value": 898825
          }
        },
        "46fc66de1bba4cc496de7e6db7d5f477": {
          "model_module": "@jupyter-widgets/controls",
          "model_name": "HTMLModel",
          "model_module_version": "1.5.0",
          "state": {
            "_dom_classes": [],
            "_model_module": "@jupyter-widgets/controls",
            "_model_module_version": "1.5.0",
            "_model_name": "HTMLModel",
            "_view_count": null,
            "_view_module": "@jupyter-widgets/controls",
            "_view_module_version": "1.5.0",
            "_view_name": "HTMLView",
            "description": "",
            "description_tooltip": null,
            "layout": "IPY_MODEL_4dd1bcc847d44bcabbc5fd1f2fc633c6",
            "placeholder": "​",
            "style": "IPY_MODEL_1c7474fa6be642869760f9a6398efa47",
            "value": " 878k/878k [00:00&lt;00:00, 2.47MB/s]"
          }
        },
        "6a2538bf9223411eb174785bb0c5aaf6": {
          "model_module": "@jupyter-widgets/base",
          "model_name": "LayoutModel",
          "model_module_version": "1.2.0",
          "state": {
            "_model_module": "@jupyter-widgets/base",
            "_model_module_version": "1.2.0",
            "_model_name": "LayoutModel",
            "_view_count": null,
            "_view_module": "@jupyter-widgets/base",
            "_view_module_version": "1.2.0",
            "_view_name": "LayoutView",
            "align_content": null,
            "align_items": null,
            "align_self": null,
            "border": null,
            "bottom": null,
            "display": null,
            "flex": null,
            "flex_flow": null,
            "grid_area": null,
            "grid_auto_columns": null,
            "grid_auto_flow": null,
            "grid_auto_rows": null,
            "grid_column": null,
            "grid_gap": null,
            "grid_row": null,
            "grid_template_areas": null,
            "grid_template_columns": null,
            "grid_template_rows": null,
            "height": null,
            "justify_content": null,
            "justify_items": null,
            "left": null,
            "margin": null,
            "max_height": null,
            "max_width": null,
            "min_height": null,
            "min_width": null,
            "object_fit": null,
            "object_position": null,
            "order": null,
            "overflow": null,
            "overflow_x": null,
            "overflow_y": null,
            "padding": null,
            "right": null,
            "top": null,
            "visibility": null,
            "width": null
          }
        },
        "ad9b1f9583fa404aa6c32b9f8f02cecd": {
          "model_module": "@jupyter-widgets/base",
          "model_name": "LayoutModel",
          "model_module_version": "1.2.0",
          "state": {
            "_model_module": "@jupyter-widgets/base",
            "_model_module_version": "1.2.0",
            "_model_name": "LayoutModel",
            "_view_count": null,
            "_view_module": "@jupyter-widgets/base",
            "_view_module_version": "1.2.0",
            "_view_name": "LayoutView",
            "align_content": null,
            "align_items": null,
            "align_self": null,
            "border": null,
            "bottom": null,
            "display": null,
            "flex": null,
            "flex_flow": null,
            "grid_area": null,
            "grid_auto_columns": null,
            "grid_auto_flow": null,
            "grid_auto_rows": null,
            "grid_column": null,
            "grid_gap": null,
            "grid_row": null,
            "grid_template_areas": null,
            "grid_template_columns": null,
            "grid_template_rows": null,
            "height": null,
            "justify_content": null,
            "justify_items": null,
            "left": null,
            "margin": null,
            "max_height": null,
            "max_width": null,
            "min_height": null,
            "min_width": null,
            "object_fit": null,
            "object_position": null,
            "order": null,
            "overflow": null,
            "overflow_x": null,
            "overflow_y": null,
            "padding": null,
            "right": null,
            "top": null,
            "visibility": null,
            "width": null
          }
        },
        "ec4256403fa2463787149f3903307d01": {
          "model_module": "@jupyter-widgets/controls",
          "model_name": "DescriptionStyleModel",
          "model_module_version": "1.5.0",
          "state": {
            "_model_module": "@jupyter-widgets/controls",
            "_model_module_version": "1.5.0",
            "_model_name": "DescriptionStyleModel",
            "_view_count": null,
            "_view_module": "@jupyter-widgets/base",
            "_view_module_version": "1.2.0",
            "_view_name": "StyleView",
            "description_width": ""
          }
        },
        "3d8e1679165c4c108a86a5990c0ecb90": {
          "model_module": "@jupyter-widgets/base",
          "model_name": "LayoutModel",
          "model_module_version": "1.2.0",
          "state": {
            "_model_module": "@jupyter-widgets/base",
            "_model_module_version": "1.2.0",
            "_model_name": "LayoutModel",
            "_view_count": null,
            "_view_module": "@jupyter-widgets/base",
            "_view_module_version": "1.2.0",
            "_view_name": "LayoutView",
            "align_content": null,
            "align_items": null,
            "align_self": null,
            "border": null,
            "bottom": null,
            "display": null,
            "flex": null,
            "flex_flow": null,
            "grid_area": null,
            "grid_auto_columns": null,
            "grid_auto_flow": null,
            "grid_auto_rows": null,
            "grid_column": null,
            "grid_gap": null,
            "grid_row": null,
            "grid_template_areas": null,
            "grid_template_columns": null,
            "grid_template_rows": null,
            "height": null,
            "justify_content": null,
            "justify_items": null,
            "left": null,
            "margin": null,
            "max_height": null,
            "max_width": null,
            "min_height": null,
            "min_width": null,
            "object_fit": null,
            "object_position": null,
            "order": null,
            "overflow": null,
            "overflow_x": null,
            "overflow_y": null,
            "padding": null,
            "right": null,
            "top": null,
            "visibility": null,
            "width": null
          }
        },
        "2b312cc76e0c498d9a854d5654e91e21": {
          "model_module": "@jupyter-widgets/controls",
          "model_name": "ProgressStyleModel",
          "model_module_version": "1.5.0",
          "state": {
            "_model_module": "@jupyter-widgets/controls",
            "_model_module_version": "1.5.0",
            "_model_name": "ProgressStyleModel",
            "_view_count": null,
            "_view_module": "@jupyter-widgets/base",
            "_view_module_version": "1.2.0",
            "_view_name": "StyleView",
            "bar_color": null,
            "description_width": ""
          }
        },
        "4dd1bcc847d44bcabbc5fd1f2fc633c6": {
          "model_module": "@jupyter-widgets/base",
          "model_name": "LayoutModel",
          "model_module_version": "1.2.0",
          "state": {
            "_model_module": "@jupyter-widgets/base",
            "_model_module_version": "1.2.0",
            "_model_name": "LayoutModel",
            "_view_count": null,
            "_view_module": "@jupyter-widgets/base",
            "_view_module_version": "1.2.0",
            "_view_name": "LayoutView",
            "align_content": null,
            "align_items": null,
            "align_self": null,
            "border": null,
            "bottom": null,
            "display": null,
            "flex": null,
            "flex_flow": null,
            "grid_area": null,
            "grid_auto_columns": null,
            "grid_auto_flow": null,
            "grid_auto_rows": null,
            "grid_column": null,
            "grid_gap": null,
            "grid_row": null,
            "grid_template_areas": null,
            "grid_template_columns": null,
            "grid_template_rows": null,
            "height": null,
            "justify_content": null,
            "justify_items": null,
            "left": null,
            "margin": null,
            "max_height": null,
            "max_width": null,
            "min_height": null,
            "min_width": null,
            "object_fit": null,
            "object_position": null,
            "order": null,
            "overflow": null,
            "overflow_x": null,
            "overflow_y": null,
            "padding": null,
            "right": null,
            "top": null,
            "visibility": null,
            "width": null
          }
        },
        "1c7474fa6be642869760f9a6398efa47": {
          "model_module": "@jupyter-widgets/controls",
          "model_name": "DescriptionStyleModel",
          "model_module_version": "1.5.0",
          "state": {
            "_model_module": "@jupyter-widgets/controls",
            "_model_module_version": "1.5.0",
            "_model_name": "DescriptionStyleModel",
            "_view_count": null,
            "_view_module": "@jupyter-widgets/base",
            "_view_module_version": "1.2.0",
            "_view_name": "StyleView",
            "description_width": ""
          }
        },
        "707683de1bb04ea1b3500769434f4543": {
          "model_module": "@jupyter-widgets/controls",
          "model_name": "HBoxModel",
          "model_module_version": "1.5.0",
          "state": {
            "_dom_classes": [],
            "_model_module": "@jupyter-widgets/controls",
            "_model_module_version": "1.5.0",
            "_model_name": "HBoxModel",
            "_view_count": null,
            "_view_module": "@jupyter-widgets/controls",
            "_view_module_version": "1.5.0",
            "_view_name": "HBoxView",
            "box_style": "",
            "children": [
              "IPY_MODEL_14afe21452894d4082d97a3e05ee6901",
              "IPY_MODEL_a7b5d229aef84b36b6fad31c4e490663",
              "IPY_MODEL_e56c1c4bb96c40148eb8cff926a24f63"
            ],
            "layout": "IPY_MODEL_cb095ac3b7884b0ea5e161cc85cc916d"
          }
        },
        "14afe21452894d4082d97a3e05ee6901": {
          "model_module": "@jupyter-widgets/controls",
          "model_name": "HTMLModel",
          "model_module_version": "1.5.0",
          "state": {
            "_dom_classes": [],
            "_model_module": "@jupyter-widgets/controls",
            "_model_module_version": "1.5.0",
            "_model_name": "HTMLModel",
            "_view_count": null,
            "_view_module": "@jupyter-widgets/controls",
            "_view_module_version": "1.5.0",
            "_view_name": "HTMLView",
            "description": "",
            "description_tooltip": null,
            "layout": "IPY_MODEL_8ce22ce558054e2392e47104a9a69222",
            "placeholder": "​",
            "style": "IPY_MODEL_95b5ea5c8f664bb08a3b529e2034dd55",
            "value": "Downloading: 100%"
          }
        },
        "a7b5d229aef84b36b6fad31c4e490663": {
          "model_module": "@jupyter-widgets/controls",
          "model_name": "FloatProgressModel",
          "model_module_version": "1.5.0",
          "state": {
            "_dom_classes": [],
            "_model_module": "@jupyter-widgets/controls",
            "_model_module_version": "1.5.0",
            "_model_name": "FloatProgressModel",
            "_view_count": null,
            "_view_module": "@jupyter-widgets/controls",
            "_view_module_version": "1.5.0",
            "_view_name": "ProgressView",
            "bar_style": "success",
            "description": "",
            "description_tooltip": null,
            "layout": "IPY_MODEL_89b793b713824e4c9fe7a4495806e081",
            "max": 456318,
            "min": 0,
            "orientation": "horizontal",
            "style": "IPY_MODEL_e72b0d8528064babae0a70bc5d7de6ff",
            "value": 456318
          }
        },
        "e56c1c4bb96c40148eb8cff926a24f63": {
          "model_module": "@jupyter-widgets/controls",
          "model_name": "HTMLModel",
          "model_module_version": "1.5.0",
          "state": {
            "_dom_classes": [],
            "_model_module": "@jupyter-widgets/controls",
            "_model_module_version": "1.5.0",
            "_model_name": "HTMLModel",
            "_view_count": null,
            "_view_module": "@jupyter-widgets/controls",
            "_view_module_version": "1.5.0",
            "_view_name": "HTMLView",
            "description": "",
            "description_tooltip": null,
            "layout": "IPY_MODEL_1e484f70cf25442092c0e66f6f881c2f",
            "placeholder": "​",
            "style": "IPY_MODEL_5af4d9dbc63046fc856221c6b46b3094",
            "value": " 446k/446k [00:00&lt;00:00, 1.14MB/s]"
          }
        },
        "cb095ac3b7884b0ea5e161cc85cc916d": {
          "model_module": "@jupyter-widgets/base",
          "model_name": "LayoutModel",
          "model_module_version": "1.2.0",
          "state": {
            "_model_module": "@jupyter-widgets/base",
            "_model_module_version": "1.2.0",
            "_model_name": "LayoutModel",
            "_view_count": null,
            "_view_module": "@jupyter-widgets/base",
            "_view_module_version": "1.2.0",
            "_view_name": "LayoutView",
            "align_content": null,
            "align_items": null,
            "align_self": null,
            "border": null,
            "bottom": null,
            "display": null,
            "flex": null,
            "flex_flow": null,
            "grid_area": null,
            "grid_auto_columns": null,
            "grid_auto_flow": null,
            "grid_auto_rows": null,
            "grid_column": null,
            "grid_gap": null,
            "grid_row": null,
            "grid_template_areas": null,
            "grid_template_columns": null,
            "grid_template_rows": null,
            "height": null,
            "justify_content": null,
            "justify_items": null,
            "left": null,
            "margin": null,
            "max_height": null,
            "max_width": null,
            "min_height": null,
            "min_width": null,
            "object_fit": null,
            "object_position": null,
            "order": null,
            "overflow": null,
            "overflow_x": null,
            "overflow_y": null,
            "padding": null,
            "right": null,
            "top": null,
            "visibility": null,
            "width": null
          }
        },
        "8ce22ce558054e2392e47104a9a69222": {
          "model_module": "@jupyter-widgets/base",
          "model_name": "LayoutModel",
          "model_module_version": "1.2.0",
          "state": {
            "_model_module": "@jupyter-widgets/base",
            "_model_module_version": "1.2.0",
            "_model_name": "LayoutModel",
            "_view_count": null,
            "_view_module": "@jupyter-widgets/base",
            "_view_module_version": "1.2.0",
            "_view_name": "LayoutView",
            "align_content": null,
            "align_items": null,
            "align_self": null,
            "border": null,
            "bottom": null,
            "display": null,
            "flex": null,
            "flex_flow": null,
            "grid_area": null,
            "grid_auto_columns": null,
            "grid_auto_flow": null,
            "grid_auto_rows": null,
            "grid_column": null,
            "grid_gap": null,
            "grid_row": null,
            "grid_template_areas": null,
            "grid_template_columns": null,
            "grid_template_rows": null,
            "height": null,
            "justify_content": null,
            "justify_items": null,
            "left": null,
            "margin": null,
            "max_height": null,
            "max_width": null,
            "min_height": null,
            "min_width": null,
            "object_fit": null,
            "object_position": null,
            "order": null,
            "overflow": null,
            "overflow_x": null,
            "overflow_y": null,
            "padding": null,
            "right": null,
            "top": null,
            "visibility": null,
            "width": null
          }
        },
        "95b5ea5c8f664bb08a3b529e2034dd55": {
          "model_module": "@jupyter-widgets/controls",
          "model_name": "DescriptionStyleModel",
          "model_module_version": "1.5.0",
          "state": {
            "_model_module": "@jupyter-widgets/controls",
            "_model_module_version": "1.5.0",
            "_model_name": "DescriptionStyleModel",
            "_view_count": null,
            "_view_module": "@jupyter-widgets/base",
            "_view_module_version": "1.2.0",
            "_view_name": "StyleView",
            "description_width": ""
          }
        },
        "89b793b713824e4c9fe7a4495806e081": {
          "model_module": "@jupyter-widgets/base",
          "model_name": "LayoutModel",
          "model_module_version": "1.2.0",
          "state": {
            "_model_module": "@jupyter-widgets/base",
            "_model_module_version": "1.2.0",
            "_model_name": "LayoutModel",
            "_view_count": null,
            "_view_module": "@jupyter-widgets/base",
            "_view_module_version": "1.2.0",
            "_view_name": "LayoutView",
            "align_content": null,
            "align_items": null,
            "align_self": null,
            "border": null,
            "bottom": null,
            "display": null,
            "flex": null,
            "flex_flow": null,
            "grid_area": null,
            "grid_auto_columns": null,
            "grid_auto_flow": null,
            "grid_auto_rows": null,
            "grid_column": null,
            "grid_gap": null,
            "grid_row": null,
            "grid_template_areas": null,
            "grid_template_columns": null,
            "grid_template_rows": null,
            "height": null,
            "justify_content": null,
            "justify_items": null,
            "left": null,
            "margin": null,
            "max_height": null,
            "max_width": null,
            "min_height": null,
            "min_width": null,
            "object_fit": null,
            "object_position": null,
            "order": null,
            "overflow": null,
            "overflow_x": null,
            "overflow_y": null,
            "padding": null,
            "right": null,
            "top": null,
            "visibility": null,
            "width": null
          }
        },
        "e72b0d8528064babae0a70bc5d7de6ff": {
          "model_module": "@jupyter-widgets/controls",
          "model_name": "ProgressStyleModel",
          "model_module_version": "1.5.0",
          "state": {
            "_model_module": "@jupyter-widgets/controls",
            "_model_module_version": "1.5.0",
            "_model_name": "ProgressStyleModel",
            "_view_count": null,
            "_view_module": "@jupyter-widgets/base",
            "_view_module_version": "1.2.0",
            "_view_name": "StyleView",
            "bar_color": null,
            "description_width": ""
          }
        },
        "1e484f70cf25442092c0e66f6f881c2f": {
          "model_module": "@jupyter-widgets/base",
          "model_name": "LayoutModel",
          "model_module_version": "1.2.0",
          "state": {
            "_model_module": "@jupyter-widgets/base",
            "_model_module_version": "1.2.0",
            "_model_name": "LayoutModel",
            "_view_count": null,
            "_view_module": "@jupyter-widgets/base",
            "_view_module_version": "1.2.0",
            "_view_name": "LayoutView",
            "align_content": null,
            "align_items": null,
            "align_self": null,
            "border": null,
            "bottom": null,
            "display": null,
            "flex": null,
            "flex_flow": null,
            "grid_area": null,
            "grid_auto_columns": null,
            "grid_auto_flow": null,
            "grid_auto_rows": null,
            "grid_column": null,
            "grid_gap": null,
            "grid_row": null,
            "grid_template_areas": null,
            "grid_template_columns": null,
            "grid_template_rows": null,
            "height": null,
            "justify_content": null,
            "justify_items": null,
            "left": null,
            "margin": null,
            "max_height": null,
            "max_width": null,
            "min_height": null,
            "min_width": null,
            "object_fit": null,
            "object_position": null,
            "order": null,
            "overflow": null,
            "overflow_x": null,
            "overflow_y": null,
            "padding": null,
            "right": null,
            "top": null,
            "visibility": null,
            "width": null
          }
        },
        "5af4d9dbc63046fc856221c6b46b3094": {
          "model_module": "@jupyter-widgets/controls",
          "model_name": "DescriptionStyleModel",
          "model_module_version": "1.5.0",
          "state": {
            "_model_module": "@jupyter-widgets/controls",
            "_model_module_version": "1.5.0",
            "_model_name": "DescriptionStyleModel",
            "_view_count": null,
            "_view_module": "@jupyter-widgets/base",
            "_view_module_version": "1.2.0",
            "_view_name": "StyleView",
            "description_width": ""
          }
        },
        "07224ce898fa4a65bde5985e33735c16": {
          "model_module": "@jupyter-widgets/controls",
          "model_name": "HBoxModel",
          "model_module_version": "1.5.0",
          "state": {
            "_dom_classes": [],
            "_model_module": "@jupyter-widgets/controls",
            "_model_module_version": "1.5.0",
            "_model_name": "HBoxModel",
            "_view_count": null,
            "_view_module": "@jupyter-widgets/controls",
            "_view_module_version": "1.5.0",
            "_view_name": "HBoxView",
            "box_style": "",
            "children": [
              "IPY_MODEL_5939ca06ec7a47ee8afe6eeb51d25864",
              "IPY_MODEL_17397e9c55f04df3827c502eccb747ae",
              "IPY_MODEL_2699ef65d42f4e0b832cde7546a82da4"
            ],
            "layout": "IPY_MODEL_829edadb662b49aab88c318f7abb8e52"
          }
        },
        "5939ca06ec7a47ee8afe6eeb51d25864": {
          "model_module": "@jupyter-widgets/controls",
          "model_name": "HTMLModel",
          "model_module_version": "1.5.0",
          "state": {
            "_dom_classes": [],
            "_model_module": "@jupyter-widgets/controls",
            "_model_module_version": "1.5.0",
            "_model_name": "HTMLModel",
            "_view_count": null,
            "_view_module": "@jupyter-widgets/controls",
            "_view_module_version": "1.5.0",
            "_view_name": "HTMLView",
            "description": "",
            "description_tooltip": null,
            "layout": "IPY_MODEL_e0d5d0db1b3b48a3909af2be506056bd",
            "placeholder": "​",
            "style": "IPY_MODEL_ec9f727c262346688d6a1f0e541cd895",
            "value": "Downloading: 100%"
          }
        },
        "17397e9c55f04df3827c502eccb747ae": {
          "model_module": "@jupyter-widgets/controls",
          "model_name": "FloatProgressModel",
          "model_module_version": "1.5.0",
          "state": {
            "_dom_classes": [],
            "_model_module": "@jupyter-widgets/controls",
            "_model_module_version": "1.5.0",
            "_model_name": "FloatProgressModel",
            "_view_count": null,
            "_view_module": "@jupyter-widgets/controls",
            "_view_module_version": "1.5.0",
            "_view_name": "ProgressView",
            "bar_style": "success",
            "description": "",
            "description_tooltip": null,
            "layout": "IPY_MODEL_21a799e14a46476f9772cad9ecc32595",
            "max": 554669920,
            "min": 0,
            "orientation": "horizontal",
            "style": "IPY_MODEL_9c515d4d7cae467ebf6731e21c1cd5c4",
            "value": 554669920
          }
        },
        "2699ef65d42f4e0b832cde7546a82da4": {
          "model_module": "@jupyter-widgets/controls",
          "model_name": "HTMLModel",
          "model_module_version": "1.5.0",
          "state": {
            "_dom_classes": [],
            "_model_module": "@jupyter-widgets/controls",
            "_model_module_version": "1.5.0",
            "_model_name": "HTMLModel",
            "_view_count": null,
            "_view_module": "@jupyter-widgets/controls",
            "_view_module_version": "1.5.0",
            "_view_name": "HTMLView",
            "description": "",
            "description_tooltip": null,
            "layout": "IPY_MODEL_3373dc8c913f40ba9589c90c32ad6c67",
            "placeholder": "​",
            "style": "IPY_MODEL_f3581a4d4b8c478ba07d1f80dab74305",
            "value": " 529M/529M [00:16&lt;00:00, 35.1MB/s]"
          }
        },
        "829edadb662b49aab88c318f7abb8e52": {
          "model_module": "@jupyter-widgets/base",
          "model_name": "LayoutModel",
          "model_module_version": "1.2.0",
          "state": {
            "_model_module": "@jupyter-widgets/base",
            "_model_module_version": "1.2.0",
            "_model_name": "LayoutModel",
            "_view_count": null,
            "_view_module": "@jupyter-widgets/base",
            "_view_module_version": "1.2.0",
            "_view_name": "LayoutView",
            "align_content": null,
            "align_items": null,
            "align_self": null,
            "border": null,
            "bottom": null,
            "display": null,
            "flex": null,
            "flex_flow": null,
            "grid_area": null,
            "grid_auto_columns": null,
            "grid_auto_flow": null,
            "grid_auto_rows": null,
            "grid_column": null,
            "grid_gap": null,
            "grid_row": null,
            "grid_template_areas": null,
            "grid_template_columns": null,
            "grid_template_rows": null,
            "height": null,
            "justify_content": null,
            "justify_items": null,
            "left": null,
            "margin": null,
            "max_height": null,
            "max_width": null,
            "min_height": null,
            "min_width": null,
            "object_fit": null,
            "object_position": null,
            "order": null,
            "overflow": null,
            "overflow_x": null,
            "overflow_y": null,
            "padding": null,
            "right": null,
            "top": null,
            "visibility": null,
            "width": null
          }
        },
        "e0d5d0db1b3b48a3909af2be506056bd": {
          "model_module": "@jupyter-widgets/base",
          "model_name": "LayoutModel",
          "model_module_version": "1.2.0",
          "state": {
            "_model_module": "@jupyter-widgets/base",
            "_model_module_version": "1.2.0",
            "_model_name": "LayoutModel",
            "_view_count": null,
            "_view_module": "@jupyter-widgets/base",
            "_view_module_version": "1.2.0",
            "_view_name": "LayoutView",
            "align_content": null,
            "align_items": null,
            "align_self": null,
            "border": null,
            "bottom": null,
            "display": null,
            "flex": null,
            "flex_flow": null,
            "grid_area": null,
            "grid_auto_columns": null,
            "grid_auto_flow": null,
            "grid_auto_rows": null,
            "grid_column": null,
            "grid_gap": null,
            "grid_row": null,
            "grid_template_areas": null,
            "grid_template_columns": null,
            "grid_template_rows": null,
            "height": null,
            "justify_content": null,
            "justify_items": null,
            "left": null,
            "margin": null,
            "max_height": null,
            "max_width": null,
            "min_height": null,
            "min_width": null,
            "object_fit": null,
            "object_position": null,
            "order": null,
            "overflow": null,
            "overflow_x": null,
            "overflow_y": null,
            "padding": null,
            "right": null,
            "top": null,
            "visibility": null,
            "width": null
          }
        },
        "ec9f727c262346688d6a1f0e541cd895": {
          "model_module": "@jupyter-widgets/controls",
          "model_name": "DescriptionStyleModel",
          "model_module_version": "1.5.0",
          "state": {
            "_model_module": "@jupyter-widgets/controls",
            "_model_module_version": "1.5.0",
            "_model_name": "DescriptionStyleModel",
            "_view_count": null,
            "_view_module": "@jupyter-widgets/base",
            "_view_module_version": "1.2.0",
            "_view_name": "StyleView",
            "description_width": ""
          }
        },
        "21a799e14a46476f9772cad9ecc32595": {
          "model_module": "@jupyter-widgets/base",
          "model_name": "LayoutModel",
          "model_module_version": "1.2.0",
          "state": {
            "_model_module": "@jupyter-widgets/base",
            "_model_module_version": "1.2.0",
            "_model_name": "LayoutModel",
            "_view_count": null,
            "_view_module": "@jupyter-widgets/base",
            "_view_module_version": "1.2.0",
            "_view_name": "LayoutView",
            "align_content": null,
            "align_items": null,
            "align_self": null,
            "border": null,
            "bottom": null,
            "display": null,
            "flex": null,
            "flex_flow": null,
            "grid_area": null,
            "grid_auto_columns": null,
            "grid_auto_flow": null,
            "grid_auto_rows": null,
            "grid_column": null,
            "grid_gap": null,
            "grid_row": null,
            "grid_template_areas": null,
            "grid_template_columns": null,
            "grid_template_rows": null,
            "height": null,
            "justify_content": null,
            "justify_items": null,
            "left": null,
            "margin": null,
            "max_height": null,
            "max_width": null,
            "min_height": null,
            "min_width": null,
            "object_fit": null,
            "object_position": null,
            "order": null,
            "overflow": null,
            "overflow_x": null,
            "overflow_y": null,
            "padding": null,
            "right": null,
            "top": null,
            "visibility": null,
            "width": null
          }
        },
        "9c515d4d7cae467ebf6731e21c1cd5c4": {
          "model_module": "@jupyter-widgets/controls",
          "model_name": "ProgressStyleModel",
          "model_module_version": "1.5.0",
          "state": {
            "_model_module": "@jupyter-widgets/controls",
            "_model_module_version": "1.5.0",
            "_model_name": "ProgressStyleModel",
            "_view_count": null,
            "_view_module": "@jupyter-widgets/base",
            "_view_module_version": "1.2.0",
            "_view_name": "StyleView",
            "bar_color": null,
            "description_width": ""
          }
        },
        "3373dc8c913f40ba9589c90c32ad6c67": {
          "model_module": "@jupyter-widgets/base",
          "model_name": "LayoutModel",
          "model_module_version": "1.2.0",
          "state": {
            "_model_module": "@jupyter-widgets/base",
            "_model_module_version": "1.2.0",
            "_model_name": "LayoutModel",
            "_view_count": null,
            "_view_module": "@jupyter-widgets/base",
            "_view_module_version": "1.2.0",
            "_view_name": "LayoutView",
            "align_content": null,
            "align_items": null,
            "align_self": null,
            "border": null,
            "bottom": null,
            "display": null,
            "flex": null,
            "flex_flow": null,
            "grid_area": null,
            "grid_auto_columns": null,
            "grid_auto_flow": null,
            "grid_auto_rows": null,
            "grid_column": null,
            "grid_gap": null,
            "grid_row": null,
            "grid_template_areas": null,
            "grid_template_columns": null,
            "grid_template_rows": null,
            "height": null,
            "justify_content": null,
            "justify_items": null,
            "left": null,
            "margin": null,
            "max_height": null,
            "max_width": null,
            "min_height": null,
            "min_width": null,
            "object_fit": null,
            "object_position": null,
            "order": null,
            "overflow": null,
            "overflow_x": null,
            "overflow_y": null,
            "padding": null,
            "right": null,
            "top": null,
            "visibility": null,
            "width": null
          }
        },
        "f3581a4d4b8c478ba07d1f80dab74305": {
          "model_module": "@jupyter-widgets/controls",
          "model_name": "DescriptionStyleModel",
          "model_module_version": "1.5.0",
          "state": {
            "_model_module": "@jupyter-widgets/controls",
            "_model_module_version": "1.5.0",
            "_model_name": "DescriptionStyleModel",
            "_view_count": null,
            "_view_module": "@jupyter-widgets/base",
            "_view_module_version": "1.2.0",
            "_view_name": "StyleView",
            "description_width": ""
          }
        }
      }
    }
  },
  "cells": [
    {
      "cell_type": "markdown",
      "metadata": {
        "id": "view-in-github",
        "colab_type": "text"
      },
      "source": [
        "<a href=\"https://colab.research.google.com/github/piyushpradhan22/MLChallenge/blob/master/NBME_E6.ipynb\" target=\"_parent\"><img src=\"https://colab.research.google.com/assets/colab-badge.svg\" alt=\"Open In Colab\"/></a>"
      ]
    },
    {
      "cell_type": "code",
      "source": [
        "f = open(\"kaggle.json\", 'w')\n",
        "f.write(\"{\\\"username\\\":\\\"piyushpradhan22\\\",\\\"key\\\":\\\"59c6ae034f7e7db2f2740d65be499b09\\\"}\")\n",
        "f.close()\n",
        "!mkdir -p ~/.kaggle/ && mv kaggle.json ~/.kaggle/ && chmod 600 ~/.kaggle/kaggle.json"
      ],
      "metadata": {
        "id": "UUCWMbU-0xji"
      },
      "execution_count": 1,
      "outputs": []
    },
    {
      "cell_type": "code",
      "source": [
        "#\"\"\"\n",
        "!kaggle competitions download -c nbme-score-clinical-patient-notes\n",
        "!unzip -o /content/nbme-score-clinical-patient-notes.zip\n",
        "#\"\"\""
      ],
      "metadata": {
        "colab": {
          "base_uri": "https://localhost:8080/"
        },
        "id": "vzezaNY407dZ",
        "outputId": "338eff49-bb96-4d17-a894-72e9b3398fd0"
      },
      "execution_count": 2,
      "outputs": [
        {
          "output_type": "stream",
          "name": "stdout",
          "text": [
            "Downloading nbme-score-clinical-patient-notes.zip to /content\n",
            "\r  0% 0.00/9.83M [00:00<?, ?B/s]\n",
            "\r100% 9.83M/9.83M [00:00<00:00, 136MB/s]\n",
            "Archive:  /content/nbme-score-clinical-patient-notes.zip\n",
            "  inflating: features.csv            \n",
            "  inflating: patient_notes.csv       \n",
            "  inflating: sample_submission.csv   \n",
            "  inflating: test.csv                \n",
            "  inflating: train.csv               \n"
          ]
        }
      ]
    },
    {
      "cell_type": "code",
      "source": [
        "%%capture\n",
        "!pip install transformers"
      ],
      "metadata": {
        "id": "Wmvqrkar1NvR"
      },
      "execution_count": 3,
      "outputs": []
    },
    {
      "cell_type": "code",
      "source": [
        "path=''"
      ],
      "metadata": {
        "id": "Ny2p6YfO1ACo"
      },
      "execution_count": 4,
      "outputs": []
    },
    {
      "cell_type": "code",
      "source": [
        "import pandas as pd\n",
        "import numpy as np\n",
        "import ast\n",
        "from tqdm import tqdm\n",
        "import tensorflow as tf\n",
        "from transformers import TFAutoModel, AutoTokenizer"
      ],
      "metadata": {
        "id": "NuDjdPon1MaS"
      },
      "execution_count": 5,
      "outputs": []
    },
    {
      "cell_type": "code",
      "source": [
        "df1 = pd.read_csv(path+\"train.csv\")\n",
        "df2 = pd.read_csv(path+\"patient_notes.csv\")\n",
        "df3 = pd.read_csv(path+\"features.csv\")\n",
        "df4 = pd.read_csv(path+\"test.csv\")\n",
        "df_test = pd.merge(df4, df2, how='left', on = 'pn_num').merge(df3, how = 'left', on = 'feature_num')\n",
        "df = pd.merge(df1, df2, how='left', on = 'pn_num').merge(df3, how = 'left', on = 'feature_num') ; del df1, df2, df3,df4\n",
        "df.pn_history = df.pn_history.str.lower()\n",
        "df.annotation = df.annotation.str.lower()\n",
        "df.drop(columns=['case_num_x','case_num_y'], inplace=True)"
      ],
      "metadata": {
        "id": "8Dpx-jQm1Gyw"
      },
      "execution_count": 6,
      "outputs": []
    },
    {
      "cell_type": "markdown",
      "source": [
        "## Annotation Correction"
      ],
      "metadata": {
        "id": "pmqXmIU4RKu7"
      }
    },
    {
      "cell_type": "code",
      "source": [
        "#@title\n",
        "# incorrect annotation\n",
        "df.loc[338, 'annotation'] = '[\"father heart attack\"]'\n",
        "df.loc[338, 'location'] = '[\"764 783\"]'\n",
        "\n",
        "df.loc[621, 'annotation'] = '[\"for the last 2-3 months\"]'\n",
        "df.loc[621, 'location'] = '[\"77 100\"]'\n",
        "\n",
        "df.loc[655, 'annotation'] = '[\"no heat intolerance\",\"no cold intolerance\"]'\n",
        "df.loc[655, 'location'] = '[\"285 292;301 312\",\"285 287;296 312\"]'\n",
        "\n",
        "df.loc[1262, 'annotation'] = '[\"mother thyroid problem\"]'\n",
        "df.loc[1262, 'location'] = '[\"551 557;565 580\"]'\n",
        "\n",
        "df.loc[1265, 'annotation'] = '[\\'felt like he was going to \"pass out\"\\']'\n",
        "df.loc[1265, 'location'] = '[\"131 135;181 212\"]'\n",
        "\n",
        "df.loc[1396, 'annotation'] = '[\"stool , with no blood\"]'\n",
        "df.loc[1396, 'location'] = '[\"259 280\"]'\n",
        "\n",
        "df.loc[1591, 'annotation'] = '[\"diarrhoe non blooody\"]'\n",
        "df.loc[1591, 'location'] = '[\"176 184;201 212\"]'\n",
        "\n",
        "df.loc[1615, 'annotation'] = '[\"diarrhea for last 2-3 days\"]'\n",
        "df.loc[1615, 'location'] = '[\"249 257;271 288\"]'\n",
        "\n",
        "df.loc[1664, 'annotation'] = '[\"no vaginal discharge\"]'\n",
        "df.loc[1664, 'location'] = '[\"822 824;907 924\"]'\n",
        "\n",
        "df.loc[1714, 'annotation'] = '[\"started about 8-10 hours ago\"]'\n",
        "df.loc[1714, 'location'] = '[\"101 129\"]'\n",
        "\n",
        "df.loc[1929, 'annotation'] = '[\"no blood in the stool\"]'\n",
        "df.loc[1929, 'location'] = '[\"531 539;549 561\"]'\n",
        "\n",
        "df.loc[2134, 'annotation'] = '[\"last sexually active 9 months ago\"]'\n",
        "df.loc[2134, 'location'] = '[\"540 560;581 593\"]'\n",
        "\n",
        "df.loc[2191, 'annotation'] = '[\"right lower quadrant pain\"]'\n",
        "df.loc[2191, 'location'] = '[\"32 57\"]'\n",
        "\n",
        "df.loc[2553, 'annotation'] = '[\"diarrhoea no blood\"]'\n",
        "df.loc[2553, 'location'] = '[\"308 317;376 384\"]'\n",
        "\n",
        "df.loc[3124, 'annotation'] = '[\"sweating\"]'\n",
        "df.loc[3124, 'location'] = '[\"549 557\"]'\n",
        "\n",
        "df.loc[3858, 'annotation'] = '[\"previously as regular\",\"previously eveyr 28-29 days\",\"previously lasting 5 days\",\"previously regular flow\"]'\n",
        "df.loc[3858, 'location'] = '[\"102 123\",\"102 112;125 141\",\"102 112;143 157\",\"102 112;159 171\"]'\n",
        "\n",
        "df.loc[4373, 'annotation'] = '[\"for 2 months\"]'\n",
        "df.loc[4373, 'location'] = '[\"33 45\"]'\n",
        "\n",
        "df.loc[4763, 'annotation'] = '[\"35 year old\"]'\n",
        "df.loc[4763, 'location'] = '[\"5 16\"]'\n",
        "\n",
        "df.loc[4782, 'annotation'] = '[\"darker brown stools\"]'\n",
        "df.loc[4782, 'location'] = '[\"175 194\"]'\n",
        "\n",
        "df.loc[4908, 'annotation'] = '[\"uncle with peptic ulcer\"]'\n",
        "df.loc[4908, 'location'] = '[\"700 723\"]'\n",
        "\n",
        "df.loc[6016, 'annotation'] = '[\"difficulty falling asleep\"]'\n",
        "df.loc[6016, 'location'] = '[\"225 250\"]'\n",
        "\n",
        "df.loc[6192, 'annotation'] = '[\"helps to take care of aging mother and in-laws\"]'\n",
        "df.loc[6192, 'location'] = '[\"197 218;236 260\"]'\n",
        "\n",
        "df.loc[6380, 'annotation'] = '[\"No hair changes\",\"No skin changes\",\"No GI changes\",\"No palpitations\",\"No excessive sweating\"]'\n",
        "df.loc[6380, 'location'] = '[\"480 482;507 519\",\"480 482;499 503;512 519\",\"480 482;521 531\",\"480 482;533 545\",\"480 482;564 582\"]'\n",
        "\n",
        "df.loc[6562, 'annotation'] = '[\"stressed due to taking care of her mother\",\"stressed due to taking care of husbands parents\"]'\n",
        "df.loc[6562, 'location'] = '[\"290 320;327 337\",\"290 320;342 358\"]'\n",
        "\n",
        "df.loc[6862, 'annotation'] = '[\"stressor taking care of many sick family members\"]'\n",
        "df.loc[6862, 'location'] = '[\"288 296;324 363\"]'\n",
        "\n",
        "df.loc[7022, 'annotation'] = '[\"heart started racing and felt numbness for the 1st time in her finger tips\"]'\n",
        "df.loc[7022, 'location'] = '[\"108 182\"]'\n",
        "\n",
        "df.loc[7422, 'annotation'] = '[\"first started 5 yrs\"]'\n",
        "df.loc[7422, 'location'] = '[\"102 121\"]'\n",
        "\n",
        "df.loc[8876, 'annotation'] = '[\"No shortness of breath\"]'\n",
        "df.loc[8876, 'location'] = '[\"481 483;533 552\"]'\n",
        "\n",
        "df.loc[9027, 'annotation'] = '[\"recent URI\",\"nasal stuffines, rhinorrhea, for 3-4 days\"]'\n",
        "df.loc[9027, 'location'] = '[\"92 102\",\"123 164\"]'\n",
        "\n",
        "df.loc[9938, 'annotation'] = '[\"irregularity with her cycles\",\"heavier bleeding\",\"changes her pad every couple hours\"]'\n",
        "df.loc[9938, 'location'] = '[\"89 117\",\"122 138\",\"368 402\"]'\n",
        "\n",
        "df.loc[9973, 'annotation'] = '[\"gaining 10-15 lbs\"]'\n",
        "df.loc[9973, 'location'] = '[\"344 361\"]'\n",
        "\n",
        "df.loc[10513, 'annotation'] = '[\"weight gain\",\"gain of 10-16lbs\"]'\n",
        "df.loc[10513, 'location'] = '[\"600 611\",\"607 623\"]'\n",
        "\n",
        "df.loc[11551, 'annotation'] = '[\"seeing her son knows are not real\"]'\n",
        "df.loc[11551, 'location'] = '[\"386 400;443 461\"]'\n",
        "\n",
        "df.loc[11677, 'annotation'] = '[\"saw him once in the kitchen after he died\"]'\n",
        "df.loc[11677, 'location'] = '[\"160 201\"]'\n",
        "\n",
        "df.loc[12124, 'annotation'] = '[\"tried Ambien but it didnt work\"]'\n",
        "df.loc[12124, 'location'] = '[\"325 337;349 366\"]'\n",
        "\n",
        "df.loc[12279, 'annotation'] = '[\"heard what she described as a party later than evening these things did not actually happen\"]'\n",
        "df.loc[12279, 'location'] = '[\"405 459;488 524\"]'\n",
        "\n",
        "df.loc[12289, 'annotation'] = '[\"experienced seeing her son at the kitchen table these things did not actually happen\"]'\n",
        "df.loc[12289, 'location'] = '[\"353 400;488 524\"]'\n",
        "\n",
        "df.loc[13238, 'annotation'] = '[\"SCRACHY THROAT\",\"RUNNY NOSE\"]'\n",
        "df.loc[13238, 'location'] = '[\"293 307\",\"321 331\"]'\n",
        "\n",
        "df.loc[13297, 'annotation'] = '[\"without improvement when taking tylenol\",\"without improvement when taking ibuprofen\"]'\n",
        "df.loc[13297, 'location'] = '[\"182 221\",\"182 213;225 234\"]'\n",
        "\n",
        "df.loc[13299, 'annotation'] = '[\"yesterday\",\"yesterday\"]'\n",
        "df.loc[13299, 'location'] = '[\"79 88\",\"409 418\"]'\n",
        "\n",
        "df.loc[13845, 'annotation'] = '[\"headache global\",\"headache throughout her head\"]'\n",
        "df.loc[13845, 'location'] = '[\"86 94;230 236\",\"86 94;237 256\"]'\n",
        "\n",
        "df.loc[14083, 'annotation'] = '[\"headache generalized in her head\"]'\n",
        "df.loc[14083, 'location'] = '[\"56 64;156 179\"]'"
      ],
      "metadata": {
        "id": "AXW_bNMD1JCN",
        "cellView": "form"
      },
      "execution_count": 7,
      "outputs": []
    },
    {
      "cell_type": "code",
      "source": [
        "df.annotation = df.annotation.apply(lambda x: ast.literal_eval(x))\n",
        "df.location = df.location.apply(lambda x: ast.literal_eval(x))"
      ],
      "metadata": {
        "id": "btdtqi_I1cAD"
      },
      "execution_count": 8,
      "outputs": []
    },
    {
      "cell_type": "code",
      "source": [
        "# NEW on TPU in TensorFlow 24: shorter cross-compatible TPU/GPU/multi-GPU/cluster-GPU detection code\n",
        "\n",
        "try: # detect TPUs\n",
        "    tpu  = tf.distribute.cluster_resolver.TPUClusterResolver.connect() # TPU detection\n",
        "    tf.config.experimental_connect_to_cluster(tpu )\n",
        "    tf.tpu.experimental.initialize_tpu_system(tpu )\n",
        "    strategy = tf.distribute.TPUStrategy(tpu )\n",
        "    print('Using TPU')\n",
        "except ValueError: # detect GPUs\n",
        "    tpu = None\n",
        "    strategy = tf.distribute.MirroredStrategy() # for GPU or multi-GPU machines\n",
        "    #strategy = tf.distribute.get_strategy() # default strategy that works on CPU and single GPU\n",
        "    #strategy = tf.distribute.experimental.MultiWorkerMirroredStrategy() # for clusters of multi-GPU machines\n",
        "\n",
        "print(\"Number of accelerators: \", strategy.num_replicas_in_sync)\n",
        "\n",
        "\n",
        "AUTO = tf.data.experimental.AUTOTUNE\n",
        "REPLICAS = strategy.num_replicas_in_sync\n",
        "print(f'REPLICAS: {REPLICAS}')"
      ],
      "metadata": {
        "id": "xUvuRLai1lBP",
        "outputId": "6b44862a-cefe-43df-96df-e2f303c3fde3",
        "colab": {
          "base_uri": "https://localhost:8080/"
        }
      },
      "execution_count": 9,
      "outputs": [
        {
          "output_type": "stream",
          "name": "stdout",
          "text": [
            "INFO:tensorflow:Using MirroredStrategy with devices ('/job:localhost/replica:0/task:0/device:GPU:0',)\n",
            "Number of accelerators:  1\n",
            "REPLICAS: 1\n"
          ]
        }
      ]
    },
    {
      "cell_type": "code",
      "source": [
        "MODEL_NAME = 'microsoft/deberta-base'"
      ],
      "metadata": {
        "id": "dOE0b3BT1d22"
      },
      "execution_count": 10,
      "outputs": []
    },
    {
      "cell_type": "code",
      "source": [
        "tokenizer = AutoTokenizer.from_pretrained(MODEL_NAME,normalization=True)"
      ],
      "metadata": {
        "id": "nfyOa7VK1gCG",
        "outputId": "2394e12c-10b7-40eb-9101-83275ee4b507",
        "colab": {
          "base_uri": "https://localhost:8080/",
          "height": 145,
          "referenced_widgets": [
            "67007bf09d1048deb20eaf833553ed4b",
            "76235b2bad6641e7bc2feb9070263f62",
            "d0d2a5c7ce6047f6994b0a7a879afda8",
            "05461614648b41db9b443db00152a092",
            "f789805e08fb4e66bee15a314209144a",
            "32fdb594ce744256a1c86a812ed7943a",
            "9b27e9ecf7fb424fb393e5317ef19253",
            "cc9497f24239479e83b3a2031ec37ab1",
            "e592c97d70ec4621a44315a51bce018f",
            "40a35bbc2b954098ae60ce8af846c47f",
            "7edf78bf522746e39dc02f9b4915ff79",
            "453708ff238d47edb18f4627da6a47aa",
            "4c914b5abae14bd592dfbb687014781b",
            "db57177b6c53443d98275bc6b28d3731",
            "aefc2ea1fa8a4532b7d14939a48081b6",
            "5f66c55c4735446ab3949200ddd68be5",
            "2559ec2b5e644775b7d542edfb476f39",
            "cb2b48e4bbba4a23b3cc72946c239d80",
            "1ae3776b7d5747bcab9f3fbb03c921d3",
            "d5018797d17b46408c6bfdedfd543b8a",
            "54db4fe06a2946e882f035783dee1988",
            "8fd3d8129acd4bd6937651ab7150a120",
            "1c764adf17be4bf595f3730830a4841d",
            "c6209b0aa3fb43cd8265e885e60c1e1f",
            "920ac9a36d04459f971ee0fd582e7e87",
            "46fc66de1bba4cc496de7e6db7d5f477",
            "6a2538bf9223411eb174785bb0c5aaf6",
            "ad9b1f9583fa404aa6c32b9f8f02cecd",
            "ec4256403fa2463787149f3903307d01",
            "3d8e1679165c4c108a86a5990c0ecb90",
            "2b312cc76e0c498d9a854d5654e91e21",
            "4dd1bcc847d44bcabbc5fd1f2fc633c6",
            "1c7474fa6be642869760f9a6398efa47",
            "707683de1bb04ea1b3500769434f4543",
            "14afe21452894d4082d97a3e05ee6901",
            "a7b5d229aef84b36b6fad31c4e490663",
            "e56c1c4bb96c40148eb8cff926a24f63",
            "cb095ac3b7884b0ea5e161cc85cc916d",
            "8ce22ce558054e2392e47104a9a69222",
            "95b5ea5c8f664bb08a3b529e2034dd55",
            "89b793b713824e4c9fe7a4495806e081",
            "e72b0d8528064babae0a70bc5d7de6ff",
            "1e484f70cf25442092c0e66f6f881c2f",
            "5af4d9dbc63046fc856221c6b46b3094"
          ]
        }
      },
      "execution_count": 11,
      "outputs": [
        {
          "output_type": "display_data",
          "data": {
            "text/plain": [
              "Downloading:   0%|          | 0.00/52.0 [00:00<?, ?B/s]"
            ],
            "application/vnd.jupyter.widget-view+json": {
              "version_major": 2,
              "version_minor": 0,
              "model_id": "67007bf09d1048deb20eaf833553ed4b"
            }
          },
          "metadata": {}
        },
        {
          "output_type": "display_data",
          "data": {
            "text/plain": [
              "Downloading:   0%|          | 0.00/474 [00:00<?, ?B/s]"
            ],
            "application/vnd.jupyter.widget-view+json": {
              "version_major": 2,
              "version_minor": 0,
              "model_id": "453708ff238d47edb18f4627da6a47aa"
            }
          },
          "metadata": {}
        },
        {
          "output_type": "display_data",
          "data": {
            "text/plain": [
              "Downloading:   0%|          | 0.00/878k [00:00<?, ?B/s]"
            ],
            "application/vnd.jupyter.widget-view+json": {
              "version_major": 2,
              "version_minor": 0,
              "model_id": "1c764adf17be4bf595f3730830a4841d"
            }
          },
          "metadata": {}
        },
        {
          "output_type": "display_data",
          "data": {
            "text/plain": [
              "Downloading:   0%|          | 0.00/446k [00:00<?, ?B/s]"
            ],
            "application/vnd.jupyter.widget-view+json": {
              "version_major": 2,
              "version_minor": 0,
              "model_id": "707683de1bb04ea1b3500769434f4543"
            }
          },
          "metadata": {}
        }
      ]
    },
    {
      "cell_type": "code",
      "source": [
        "def getExpanded(x):\n",
        "    ex_list = []\n",
        "    for val in x:\n",
        "        lst = val.split(\";\")\n",
        "        for lst1 in lst:\n",
        "            lst2 = lst1.split(\" \")\n",
        "            ex_list.extend(list(range(int(lst2[0]), int(lst2[1]))))\n",
        "    return ex_list"
      ],
      "metadata": {
        "id": "gGjg1riuDT1z"
      },
      "execution_count": 12,
      "outputs": []
    },
    {
      "cell_type": "code",
      "source": [
        "SEQUENCE_LENGTH = 512\n",
        "def buildTrainingData(df):\n",
        "  input_ids = []\n",
        "  attention_mask = []\n",
        "  offset_mapping = []\n",
        "  answer = []\n",
        "  \n",
        "  for i in tqdm(range(len(df))):\n",
        "    x = tokenizer.encode_plus(df.loc[i].pn_history, max_length=SEQUENCE_LENGTH, padding='max_length',truncation=True, return_offsets_mapping=True)\n",
        "    input_ids.append(x['input_ids'])\n",
        "    attention_mask.append(x['attention_mask'])\n",
        "    offset_mapping.append(x['offset_mapping'])\n",
        "    answer.append([1 if x['offset_mapping'][j][0] in getExpanded(df.location.values[i]) else 0 for j in range(SEQUENCE_LENGTH)])\n",
        "    \n",
        "  return np.vstack(input_ids), np.vstack(attention_mask), offset_mapping, np.vstack(answer)\n",
        "\n",
        "def buildTestData(df):\n",
        "  input_ids = []\n",
        "  attention_mask = []\n",
        "  offset_mapping = []\n",
        "  \n",
        "  for i in tqdm(range(len(df))):\n",
        "    x = tokenizer.encode_plus(df.loc[i].pn_history, max_length=SEQUENCE_LENGTH, padding='max_length',truncation=True, return_offsets_mapping=True)\n",
        "    input_ids.append(x['input_ids'])\n",
        "    attention_mask.append(x['attention_mask'])\n",
        "    offset_mapping.append(x['offset_mapping'])\n",
        "  return np.vstack(input_ids), np.vstack(attention_mask), offset_mapping"
      ],
      "metadata": {
        "id": "Tr2IjF7PbR_D"
      },
      "execution_count": 13,
      "outputs": []
    },
    {
      "cell_type": "code",
      "source": [
        "data = buildTrainingData(df)"
      ],
      "metadata": {
        "id": "U-CopLEkcIZZ",
        "outputId": "2df39c19-260b-4bcb-ee41-458ca7d38f7a",
        "colab": {
          "base_uri": "https://localhost:8080/"
        }
      },
      "execution_count": 14,
      "outputs": [
        {
          "output_type": "stream",
          "name": "stderr",
          "text": [
            "100%|██████████| 14300/14300 [02:19<00:00, 102.65it/s]\n"
          ]
        }
      ]
    },
    {
      "cell_type": "code",
      "source": [
        "deberta_model = TFAutoModel.from_pretrained(MODEL_NAME)"
      ],
      "metadata": {
        "id": "YQdckmJg2IE-",
        "outputId": "772e6f3b-c40e-456a-8d69-89d24bdb57ed",
        "colab": {
          "base_uri": "https://localhost:8080/",
          "height": 118,
          "referenced_widgets": [
            "07224ce898fa4a65bde5985e33735c16",
            "5939ca06ec7a47ee8afe6eeb51d25864",
            "17397e9c55f04df3827c502eccb747ae",
            "2699ef65d42f4e0b832cde7546a82da4",
            "829edadb662b49aab88c318f7abb8e52",
            "e0d5d0db1b3b48a3909af2be506056bd",
            "ec9f727c262346688d6a1f0e541cd895",
            "21a799e14a46476f9772cad9ecc32595",
            "9c515d4d7cae467ebf6731e21c1cd5c4",
            "3373dc8c913f40ba9589c90c32ad6c67",
            "f3581a4d4b8c478ba07d1f80dab74305"
          ]
        }
      },
      "execution_count": 15,
      "outputs": [
        {
          "output_type": "display_data",
          "data": {
            "text/plain": [
              "Downloading:   0%|          | 0.00/529M [00:00<?, ?B/s]"
            ],
            "application/vnd.jupyter.widget-view+json": {
              "version_major": 2,
              "version_minor": 0,
              "model_id": "07224ce898fa4a65bde5985e33735c16"
            }
          },
          "metadata": {}
        },
        {
          "output_type": "stream",
          "name": "stderr",
          "text": [
            "All model checkpoint layers were used when initializing TFDebertaModel.\n",
            "\n",
            "All the layers of TFDebertaModel were initialized from the model checkpoint at microsoft/deberta-base.\n",
            "If your task is similar to the task the model of the checkpoint was trained on, you can already use TFDebertaModel for predictions without further training.\n"
          ]
        }
      ]
    },
    {
      "cell_type": "code",
      "source": [
        "input_ids = tf.keras.layers.Input(shape = (SEQUENCE_LENGTH,), name = 'input_ids', dtype = tf.int32)\n",
        "attention_mask = tf.keras.layers.Input(shape = (SEQUENCE_LENGTH,), name = 'attention_mask', dtype = tf.int32)"
      ],
      "metadata": {
        "id": "YQKKUbxn2e_q"
      },
      "execution_count": 16,
      "outputs": []
    },
    {
      "cell_type": "code",
      "source": [
        "deberta_layer = deberta_model(input_ids=input_ids,attention_mask=attention_mask)[0]"
      ],
      "metadata": {
        "id": "Vz27Ubn82hre"
      },
      "execution_count": 17,
      "outputs": []
    },
    {
      "cell_type": "code",
      "source": [
        "#out = tf.keras.layers.Dense(20,activation='relu')(debert_layer)\n",
        "out = tf.keras.layers.Dropout(0.2)(deberta_layer)\n",
        "out = tf.keras.layers.Dense(1, activation='sigmoid')(out)"
      ],
      "metadata": {
        "id": "mIhiNBz72kHg"
      },
      "execution_count": 18,
      "outputs": []
    },
    {
      "cell_type": "code",
      "source": [
        "model = tf.keras.Model(inputs = [input_ids, attention_mask], outputs=out)\n",
        "#model.layers[2].trainable = False"
      ],
      "metadata": {
        "id": "MIZAwamp2pTD"
      },
      "execution_count": 19,
      "outputs": []
    },
    {
      "cell_type": "code",
      "source": [
        "model.summary()"
      ],
      "metadata": {
        "id": "1AoXM0-82sWj",
        "outputId": "f2299ee5-fe42-4a24-c404-f5e0e9124526",
        "colab": {
          "base_uri": "https://localhost:8080/"
        }
      },
      "execution_count": 20,
      "outputs": [
        {
          "output_type": "stream",
          "name": "stdout",
          "text": [
            "Model: \"model\"\n",
            "__________________________________________________________________________________________________\n",
            " Layer (type)                   Output Shape         Param #     Connected to                     \n",
            "==================================================================================================\n",
            " input_ids (InputLayer)         [(None, 512)]        0           []                               \n",
            "                                                                                                  \n",
            " attention_mask (InputLayer)    [(None, 512)]        0           []                               \n",
            "                                                                                                  \n",
            " tf_deberta_model (TFDebertaMod  TFBaseModelOutput(l  138601728  ['input_ids[0][0]',              \n",
            " el)                            ast_hidden_state=(N               'attention_mask[0][0]']         \n",
            "                                one, 512, 768),                                                   \n",
            "                                 hidden_states=None                                               \n",
            "                                , attentions=None)                                                \n",
            "                                                                                                  \n",
            " dropout (Dropout)              (None, 512, 768)     0           ['tf_deberta_model[0][0]']       \n",
            "                                                                                                  \n",
            " dense (Dense)                  (None, 512, 1)       769         ['dropout[0][0]']                \n",
            "                                                                                                  \n",
            "==================================================================================================\n",
            "Total params: 138,602,497\n",
            "Trainable params: 138,602,497\n",
            "Non-trainable params: 0\n",
            "__________________________________________________________________________________________________\n"
          ]
        }
      ]
    },
    {
      "cell_type": "code",
      "source": [
        "loss = tf.keras.losses.BinaryCrossentropy()\n",
        "optimizer = tf.keras.optimizers.Adam(0.01)"
      ],
      "metadata": {
        "id": "R7rl5q6S2uXe"
      },
      "execution_count": 21,
      "outputs": []
    },
    {
      "cell_type": "code",
      "source": [
        "model.compile(loss=loss, optimizer=optimizer, metrics=['acc'])"
      ],
      "metadata": {
        "id": "ok1jb9XC2wBL"
      },
      "execution_count": 22,
      "outputs": []
    },
    {
      "cell_type": "code",
      "source": [
        "hostory = model.fit(x = [data[0],data[1]], y = data[3], batch_size=5)"
      ],
      "metadata": {
        "id": "KB8f27mK2xgQ",
        "outputId": "098be40c-8bb9-4dd5-91fc-9882f0b0673d",
        "colab": {
          "base_uri": "https://localhost:8080/"
        }
      },
      "execution_count": 23,
      "outputs": [
        {
          "output_type": "stream",
          "name": "stdout",
          "text": [
            "WARNING:tensorflow:From /usr/local/lib/python3.7/dist-packages/transformers/models/deberta/modeling_tf_deberta.py:106: Bernoulli.__init__ (from tensorflow.python.ops.distributions.bernoulli) is deprecated and will be removed after 2019-01-01.\n",
            "Instructions for updating:\n",
            "The TensorFlow Distributions library has moved to TensorFlow Probability (https://github.com/tensorflow/probability). You should update all references to use `tfp.distributions` instead of `tf.distributions`.\n",
            "WARNING:tensorflow:From /usr/local/lib/python3.7/dist-packages/tensorflow/python/ops/distributions/bernoulli.py:93: Distribution.__init__ (from tensorflow.python.ops.distributions.distribution) is deprecated and will be removed after 2019-01-01.\n",
            "Instructions for updating:\n",
            "The TensorFlow Distributions library has moved to TensorFlow Probability (https://github.com/tensorflow/probability). You should update all references to use `tfp.distributions` instead of `tf.distributions`.\n",
            "2860/2860 [==============================] - 5656s 2s/step - loss: 14.8838 - acc: 0.0240\n"
          ]
        }
      ]
    },
    {
      "cell_type": "code",
      "source": [
        "np.array(data[2][0])[np.hstack(model.predict([data[0][0:1], data[1][0:1]])[0] >0.5)]"
      ],
      "metadata": {
        "id": "UiU0WTjpr-Kj",
        "outputId": "95997c21-49e9-4612-aba1-db239dad86a5",
        "colab": {
          "base_uri": "https://localhost:8080/"
        }
      },
      "execution_count": 24,
      "outputs": [
        {
          "output_type": "execute_result",
          "data": {
            "text/plain": [
              "array([[0, 0],\n",
              "       [0, 1],\n",
              "       [1, 3],\n",
              "       ...,\n",
              "       [0, 0],\n",
              "       [0, 0],\n",
              "       [0, 0]])"
            ]
          },
          "metadata": {},
          "execution_count": 24
        }
      ]
    },
    {
      "cell_type": "code",
      "source": [
        "data[1][0:1]"
      ],
      "metadata": {
        "id": "UkiZmv5JV0UL",
        "outputId": "f1957014-1660-4079-e376-34572621a477",
        "colab": {
          "base_uri": "https://localhost:8080/"
        }
      },
      "execution_count": 34,
      "outputs": [
        {
          "output_type": "execute_result",
          "data": {
            "text/plain": [
              "array([[1, 1, 1, 1, 1, 1, 1, 1, 1, 1, 1, 1, 1, 1, 1, 1, 1, 1, 1, 1, 1, 1,\n",
              "        1, 1, 1, 1, 1, 1, 1, 1, 1, 1, 1, 1, 1, 1, 1, 1, 1, 1, 1, 1, 1, 1,\n",
              "        1, 1, 1, 1, 1, 1, 1, 1, 1, 1, 1, 1, 1, 1, 1, 1, 1, 1, 1, 1, 1, 1,\n",
              "        1, 1, 1, 1, 1, 1, 1, 1, 1, 1, 1, 1, 1, 1, 1, 1, 1, 1, 1, 1, 1, 1,\n",
              "        1, 1, 1, 1, 1, 1, 1, 1, 1, 1, 1, 1, 1, 1, 1, 1, 1, 1, 1, 1, 1, 1,\n",
              "        1, 1, 1, 1, 1, 1, 1, 1, 1, 1, 1, 1, 1, 1, 1, 1, 1, 1, 1, 1, 1, 1,\n",
              "        1, 1, 1, 1, 1, 1, 1, 1, 1, 1, 1, 1, 1, 1, 1, 1, 1, 1, 1, 1, 1, 1,\n",
              "        1, 1, 1, 1, 1, 1, 1, 1, 1, 1, 1, 1, 1, 1, 1, 1, 1, 1, 1, 1, 1, 1,\n",
              "        1, 1, 1, 1, 1, 1, 1, 1, 1, 1, 1, 1, 1, 1, 1, 1, 1, 1, 1, 1, 1, 1,\n",
              "        1, 1, 1, 1, 1, 1, 1, 1, 1, 1, 1, 1, 1, 1, 1, 1, 1, 1, 1, 1, 1, 1,\n",
              "        1, 1, 1, 1, 1, 1, 1, 1, 1, 1, 1, 1, 1, 1, 1, 1, 1, 1, 1, 1, 1, 1,\n",
              "        1, 0, 0, 0, 0, 0, 0, 0, 0, 0, 0, 0, 0, 0, 0, 0, 0, 0, 0, 0, 0, 0,\n",
              "        0, 0, 0, 0, 0, 0, 0, 0, 0, 0, 0, 0, 0, 0, 0, 0, 0, 0, 0, 0, 0, 0,\n",
              "        0, 0, 0, 0, 0, 0, 0, 0, 0, 0, 0, 0, 0, 0, 0, 0, 0, 0, 0, 0, 0, 0,\n",
              "        0, 0, 0, 0, 0, 0, 0, 0, 0, 0, 0, 0, 0, 0, 0, 0, 0, 0, 0, 0, 0, 0,\n",
              "        0, 0, 0, 0, 0, 0, 0, 0, 0, 0, 0, 0, 0, 0, 0, 0, 0, 0, 0, 0, 0, 0,\n",
              "        0, 0, 0, 0, 0, 0, 0, 0, 0, 0, 0, 0, 0, 0, 0, 0, 0, 0, 0, 0, 0, 0,\n",
              "        0, 0, 0, 0, 0, 0, 0, 0, 0, 0, 0, 0, 0, 0, 0, 0, 0, 0, 0, 0, 0, 0,\n",
              "        0, 0, 0, 0, 0, 0, 0, 0, 0, 0, 0, 0, 0, 0, 0, 0, 0, 0, 0, 0, 0, 0,\n",
              "        0, 0, 0, 0, 0, 0, 0, 0, 0, 0, 0, 0, 0, 0, 0, 0, 0, 0, 0, 0, 0, 0,\n",
              "        0, 0, 0, 0, 0, 0, 0, 0, 0, 0, 0, 0, 0, 0, 0, 0, 0, 0, 0, 0, 0, 0,\n",
              "        0, 0, 0, 0, 0, 0, 0, 0, 0, 0, 0, 0, 0, 0, 0, 0, 0, 0, 0, 0, 0, 0,\n",
              "        0, 0, 0, 0, 0, 0, 0, 0, 0, 0, 0, 0, 0, 0, 0, 0, 0, 0, 0, 0, 0, 0,\n",
              "        0, 0, 0, 0, 0, 0]])"
            ]
          },
          "metadata": {},
          "execution_count": 34
        }
      ]
    },
    {
      "cell_type": "code",
      "source": [
        "model.predict([data[0][0:2], data[1][0:2]])"
      ],
      "metadata": {
        "id": "Qzeap8pQq9h9",
        "outputId": "64344ee7-2df2-4add-8958-695f66d3552a",
        "colab": {
          "base_uri": "https://localhost:8080/"
        }
      },
      "execution_count": 28,
      "outputs": [
        {
          "output_type": "execute_result",
          "data": {
            "text/plain": [
              "array([[[1.],\n",
              "        [1.],\n",
              "        [1.],\n",
              "        ...,\n",
              "        [1.],\n",
              "        [1.],\n",
              "        [1.]],\n",
              "\n",
              "       [[1.],\n",
              "        [1.],\n",
              "        [1.],\n",
              "        ...,\n",
              "        [1.],\n",
              "        [1.],\n",
              "        [1.]]], dtype=float32)"
            ]
          },
          "metadata": {},
          "execution_count": 28
        }
      ]
    },
    {
      "cell_type": "code",
      "source": [
        ""
      ],
      "metadata": {
        "id": "RBtjsPJjVl47"
      },
      "execution_count": null,
      "outputs": []
    }
  ]
}